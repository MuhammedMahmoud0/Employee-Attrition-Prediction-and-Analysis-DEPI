{
 "cells": [
  {
   "cell_type": "code",
   "execution_count": 1,
   "id": "4a8e6670",
   "metadata": {},
   "outputs": [],
   "source": [
    "import pandas as pd\n",
    "import matplotlib.pyplot as plt"
   ]
  },
  {
   "cell_type": "code",
   "execution_count": 9,
   "id": "cb82c607",
   "metadata": {},
   "outputs": [],
   "source": [
    "path = \"churn/train.csv\"\n",
    "df = pd.read_csv(path)"
   ]
  },
  {
   "cell_type": "code",
   "execution_count": 10,
   "id": "95b47e95",
   "metadata": {},
   "outputs": [
    {
     "data": {
      "text/html": [
       "<div>\n",
       "<style scoped>\n",
       "    .dataframe tbody tr th:only-of-type {\n",
       "        vertical-align: middle;\n",
       "    }\n",
       "\n",
       "    .dataframe tbody tr th {\n",
       "        vertical-align: top;\n",
       "    }\n",
       "\n",
       "    .dataframe thead th {\n",
       "        text-align: right;\n",
       "    }\n",
       "</style>\n",
       "<table border=\"1\" class=\"dataframe\">\n",
       "  <thead>\n",
       "    <tr style=\"text-align: right;\">\n",
       "      <th></th>\n",
       "      <th>Employee ID</th>\n",
       "      <th>Age</th>\n",
       "      <th>Gender</th>\n",
       "      <th>Years at Company</th>\n",
       "      <th>Job Role</th>\n",
       "      <th>Monthly Income</th>\n",
       "      <th>Work-Life Balance</th>\n",
       "      <th>Job Satisfaction</th>\n",
       "      <th>Performance Rating</th>\n",
       "      <th>Number of Promotions</th>\n",
       "      <th>...</th>\n",
       "      <th>Number of Dependents</th>\n",
       "      <th>Job Level</th>\n",
       "      <th>Company Size</th>\n",
       "      <th>Company Tenure</th>\n",
       "      <th>Remote Work</th>\n",
       "      <th>Leadership Opportunities</th>\n",
       "      <th>Innovation Opportunities</th>\n",
       "      <th>Company Reputation</th>\n",
       "      <th>Employee Recognition</th>\n",
       "      <th>Attrition</th>\n",
       "    </tr>\n",
       "  </thead>\n",
       "  <tbody>\n",
       "    <tr>\n",
       "      <th>0</th>\n",
       "      <td>8410</td>\n",
       "      <td>31</td>\n",
       "      <td>Male</td>\n",
       "      <td>19</td>\n",
       "      <td>Education</td>\n",
       "      <td>5390</td>\n",
       "      <td>Excellent</td>\n",
       "      <td>Medium</td>\n",
       "      <td>Average</td>\n",
       "      <td>2</td>\n",
       "      <td>...</td>\n",
       "      <td>0</td>\n",
       "      <td>Mid</td>\n",
       "      <td>Medium</td>\n",
       "      <td>89</td>\n",
       "      <td>No</td>\n",
       "      <td>No</td>\n",
       "      <td>No</td>\n",
       "      <td>Excellent</td>\n",
       "      <td>Medium</td>\n",
       "      <td>Stayed</td>\n",
       "    </tr>\n",
       "    <tr>\n",
       "      <th>1</th>\n",
       "      <td>64756</td>\n",
       "      <td>59</td>\n",
       "      <td>Female</td>\n",
       "      <td>4</td>\n",
       "      <td>Media</td>\n",
       "      <td>5534</td>\n",
       "      <td>Poor</td>\n",
       "      <td>High</td>\n",
       "      <td>Low</td>\n",
       "      <td>3</td>\n",
       "      <td>...</td>\n",
       "      <td>3</td>\n",
       "      <td>Mid</td>\n",
       "      <td>Medium</td>\n",
       "      <td>21</td>\n",
       "      <td>No</td>\n",
       "      <td>No</td>\n",
       "      <td>No</td>\n",
       "      <td>Fair</td>\n",
       "      <td>Low</td>\n",
       "      <td>Stayed</td>\n",
       "    </tr>\n",
       "    <tr>\n",
       "      <th>2</th>\n",
       "      <td>30257</td>\n",
       "      <td>24</td>\n",
       "      <td>Female</td>\n",
       "      <td>10</td>\n",
       "      <td>Healthcare</td>\n",
       "      <td>8159</td>\n",
       "      <td>Good</td>\n",
       "      <td>High</td>\n",
       "      <td>Low</td>\n",
       "      <td>0</td>\n",
       "      <td>...</td>\n",
       "      <td>3</td>\n",
       "      <td>Mid</td>\n",
       "      <td>Medium</td>\n",
       "      <td>74</td>\n",
       "      <td>No</td>\n",
       "      <td>No</td>\n",
       "      <td>No</td>\n",
       "      <td>Poor</td>\n",
       "      <td>Low</td>\n",
       "      <td>Stayed</td>\n",
       "    </tr>\n",
       "    <tr>\n",
       "      <th>3</th>\n",
       "      <td>65791</td>\n",
       "      <td>36</td>\n",
       "      <td>Female</td>\n",
       "      <td>7</td>\n",
       "      <td>Education</td>\n",
       "      <td>3989</td>\n",
       "      <td>Good</td>\n",
       "      <td>High</td>\n",
       "      <td>High</td>\n",
       "      <td>1</td>\n",
       "      <td>...</td>\n",
       "      <td>2</td>\n",
       "      <td>Mid</td>\n",
       "      <td>Small</td>\n",
       "      <td>50</td>\n",
       "      <td>Yes</td>\n",
       "      <td>No</td>\n",
       "      <td>No</td>\n",
       "      <td>Good</td>\n",
       "      <td>Medium</td>\n",
       "      <td>Stayed</td>\n",
       "    </tr>\n",
       "    <tr>\n",
       "      <th>4</th>\n",
       "      <td>65026</td>\n",
       "      <td>56</td>\n",
       "      <td>Male</td>\n",
       "      <td>41</td>\n",
       "      <td>Education</td>\n",
       "      <td>4821</td>\n",
       "      <td>Fair</td>\n",
       "      <td>Very High</td>\n",
       "      <td>Average</td>\n",
       "      <td>0</td>\n",
       "      <td>...</td>\n",
       "      <td>0</td>\n",
       "      <td>Senior</td>\n",
       "      <td>Medium</td>\n",
       "      <td>68</td>\n",
       "      <td>No</td>\n",
       "      <td>No</td>\n",
       "      <td>No</td>\n",
       "      <td>Fair</td>\n",
       "      <td>Medium</td>\n",
       "      <td>Stayed</td>\n",
       "    </tr>\n",
       "  </tbody>\n",
       "</table>\n",
       "<p>5 rows × 24 columns</p>\n",
       "</div>"
      ],
      "text/plain": [
       "   Employee ID  Age  Gender  Years at Company    Job Role  Monthly Income  \\\n",
       "0         8410   31    Male                19   Education            5390   \n",
       "1        64756   59  Female                 4       Media            5534   \n",
       "2        30257   24  Female                10  Healthcare            8159   \n",
       "3        65791   36  Female                 7   Education            3989   \n",
       "4        65026   56    Male                41   Education            4821   \n",
       "\n",
       "  Work-Life Balance Job Satisfaction Performance Rating  Number of Promotions  \\\n",
       "0         Excellent           Medium            Average                     2   \n",
       "1              Poor             High                Low                     3   \n",
       "2              Good             High                Low                     0   \n",
       "3              Good             High               High                     1   \n",
       "4              Fair        Very High            Average                     0   \n",
       "\n",
       "   ... Number of Dependents  Job Level Company Size Company Tenure  \\\n",
       "0  ...                    0        Mid       Medium             89   \n",
       "1  ...                    3        Mid       Medium             21   \n",
       "2  ...                    3        Mid       Medium             74   \n",
       "3  ...                    2        Mid        Small             50   \n",
       "4  ...                    0     Senior       Medium             68   \n",
       "\n",
       "   Remote Work Leadership Opportunities Innovation Opportunities  \\\n",
       "0           No                       No                       No   \n",
       "1           No                       No                       No   \n",
       "2           No                       No                       No   \n",
       "3          Yes                       No                       No   \n",
       "4           No                       No                       No   \n",
       "\n",
       "   Company Reputation Employee Recognition Attrition  \n",
       "0           Excellent               Medium    Stayed  \n",
       "1                Fair                  Low    Stayed  \n",
       "2                Poor                  Low    Stayed  \n",
       "3                Good               Medium    Stayed  \n",
       "4                Fair               Medium    Stayed  \n",
       "\n",
       "[5 rows x 24 columns]"
      ]
     },
     "execution_count": 10,
     "metadata": {},
     "output_type": "execute_result"
    }
   ],
   "source": [
    "df.head()"
   ]
  },
  {
   "cell_type": "code",
   "execution_count": 11,
   "id": "fd1c3b09",
   "metadata": {},
   "outputs": [
    {
     "data": {
      "text/plain": [
       "Employee ID                 0\n",
       "Age                         0\n",
       "Gender                      0\n",
       "Years at Company            0\n",
       "Job Role                    0\n",
       "Monthly Income              0\n",
       "Work-Life Balance           0\n",
       "Job Satisfaction            0\n",
       "Performance Rating          0\n",
       "Number of Promotions        0\n",
       "Overtime                    0\n",
       "Distance from Home          0\n",
       "Education Level             0\n",
       "Marital Status              0\n",
       "Number of Dependents        0\n",
       "Job Level                   0\n",
       "Company Size                0\n",
       "Company Tenure              0\n",
       "Remote Work                 0\n",
       "Leadership Opportunities    0\n",
       "Innovation Opportunities    0\n",
       "Company Reputation          0\n",
       "Employee Recognition        0\n",
       "Attrition                   0\n",
       "dtype: int64"
      ]
     },
     "execution_count": 11,
     "metadata": {},
     "output_type": "execute_result"
    }
   ],
   "source": [
    "df.isna().sum()"
   ]
  },
  {
   "cell_type": "code",
   "execution_count": 12,
   "id": "49c0247c",
   "metadata": {},
   "outputs": [
    {
     "data": {
      "text/plain": [
       "np.int64(0)"
      ]
     },
     "execution_count": 12,
     "metadata": {},
     "output_type": "execute_result"
    }
   ],
   "source": [
    "df.duplicated().sum()"
   ]
  },
  {
   "cell_type": "code",
   "execution_count": 13,
   "id": "28f6c145",
   "metadata": {},
   "outputs": [
    {
     "data": {
      "text/plain": [
       "59598"
      ]
     },
     "execution_count": 13,
     "metadata": {},
     "output_type": "execute_result"
    }
   ],
   "source": [
    "len(df)"
   ]
  },
  {
   "cell_type": "code",
   "execution_count": 14,
   "id": "9cb38f2e",
   "metadata": {},
   "outputs": [
    {
     "name": "stdout",
     "output_type": "stream",
     "text": [
      "<class 'pandas.core.frame.DataFrame'>\n",
      "RangeIndex: 59598 entries, 0 to 59597\n",
      "Data columns (total 24 columns):\n",
      " #   Column                    Non-Null Count  Dtype \n",
      "---  ------                    --------------  ----- \n",
      " 0   Employee ID               59598 non-null  int64 \n",
      " 1   Age                       59598 non-null  int64 \n",
      " 2   Gender                    59598 non-null  object\n",
      " 3   Years at Company          59598 non-null  int64 \n",
      " 4   Job Role                  59598 non-null  object\n",
      " 5   Monthly Income            59598 non-null  int64 \n",
      " 6   Work-Life Balance         59598 non-null  object\n",
      " 7   Job Satisfaction          59598 non-null  object\n",
      " 8   Performance Rating        59598 non-null  object\n",
      " 9   Number of Promotions      59598 non-null  int64 \n",
      " 10  Overtime                  59598 non-null  object\n",
      " 11  Distance from Home        59598 non-null  int64 \n",
      " 12  Education Level           59598 non-null  object\n",
      " 13  Marital Status            59598 non-null  object\n",
      " 14  Number of Dependents      59598 non-null  int64 \n",
      " 15  Job Level                 59598 non-null  object\n",
      " 16  Company Size              59598 non-null  object\n",
      " 17  Company Tenure            59598 non-null  int64 \n",
      " 18  Remote Work               59598 non-null  object\n",
      " 19  Leadership Opportunities  59598 non-null  object\n",
      " 20  Innovation Opportunities  59598 non-null  object\n",
      " 21  Company Reputation        59598 non-null  object\n",
      " 22  Employee Recognition      59598 non-null  object\n",
      " 23  Attrition                 59598 non-null  object\n",
      "dtypes: int64(8), object(16)\n",
      "memory usage: 10.9+ MB\n"
     ]
    }
   ],
   "source": [
    "df.info()"
   ]
  },
  {
   "cell_type": "code",
   "execution_count": 15,
   "id": "02813dae",
   "metadata": {},
   "outputs": [
    {
     "data": {
      "text/html": [
       "<div>\n",
       "<style scoped>\n",
       "    .dataframe tbody tr th:only-of-type {\n",
       "        vertical-align: middle;\n",
       "    }\n",
       "\n",
       "    .dataframe tbody tr th {\n",
       "        vertical-align: top;\n",
       "    }\n",
       "\n",
       "    .dataframe thead th {\n",
       "        text-align: right;\n",
       "    }\n",
       "</style>\n",
       "<table border=\"1\" class=\"dataframe\">\n",
       "  <thead>\n",
       "    <tr style=\"text-align: right;\">\n",
       "      <th></th>\n",
       "      <th>Employee ID</th>\n",
       "      <th>Age</th>\n",
       "      <th>Years at Company</th>\n",
       "      <th>Monthly Income</th>\n",
       "      <th>Number of Promotions</th>\n",
       "      <th>Distance from Home</th>\n",
       "      <th>Number of Dependents</th>\n",
       "      <th>Company Tenure</th>\n",
       "    </tr>\n",
       "  </thead>\n",
       "  <tbody>\n",
       "    <tr>\n",
       "      <th>count</th>\n",
       "      <td>59598.000000</td>\n",
       "      <td>59598.000000</td>\n",
       "      <td>59598.000000</td>\n",
       "      <td>59598.000000</td>\n",
       "      <td>59598.000000</td>\n",
       "      <td>59598.000000</td>\n",
       "      <td>59598.000000</td>\n",
       "      <td>59598.000000</td>\n",
       "    </tr>\n",
       "    <tr>\n",
       "      <th>mean</th>\n",
       "      <td>37227.118729</td>\n",
       "      <td>38.565875</td>\n",
       "      <td>15.753901</td>\n",
       "      <td>7302.397983</td>\n",
       "      <td>0.832578</td>\n",
       "      <td>50.007651</td>\n",
       "      <td>1.648075</td>\n",
       "      <td>55.758415</td>\n",
       "    </tr>\n",
       "    <tr>\n",
       "      <th>std</th>\n",
       "      <td>21519.150028</td>\n",
       "      <td>12.079673</td>\n",
       "      <td>11.245981</td>\n",
       "      <td>2151.457423</td>\n",
       "      <td>0.994991</td>\n",
       "      <td>28.466459</td>\n",
       "      <td>1.555689</td>\n",
       "      <td>25.411090</td>\n",
       "    </tr>\n",
       "    <tr>\n",
       "      <th>min</th>\n",
       "      <td>1.000000</td>\n",
       "      <td>18.000000</td>\n",
       "      <td>1.000000</td>\n",
       "      <td>1316.000000</td>\n",
       "      <td>0.000000</td>\n",
       "      <td>1.000000</td>\n",
       "      <td>0.000000</td>\n",
       "      <td>2.000000</td>\n",
       "    </tr>\n",
       "    <tr>\n",
       "      <th>25%</th>\n",
       "      <td>18580.250000</td>\n",
       "      <td>28.000000</td>\n",
       "      <td>7.000000</td>\n",
       "      <td>5658.000000</td>\n",
       "      <td>0.000000</td>\n",
       "      <td>25.000000</td>\n",
       "      <td>0.000000</td>\n",
       "      <td>36.000000</td>\n",
       "    </tr>\n",
       "    <tr>\n",
       "      <th>50%</th>\n",
       "      <td>37209.500000</td>\n",
       "      <td>39.000000</td>\n",
       "      <td>13.000000</td>\n",
       "      <td>7354.000000</td>\n",
       "      <td>1.000000</td>\n",
       "      <td>50.000000</td>\n",
       "      <td>1.000000</td>\n",
       "      <td>56.000000</td>\n",
       "    </tr>\n",
       "    <tr>\n",
       "      <th>75%</th>\n",
       "      <td>55876.750000</td>\n",
       "      <td>49.000000</td>\n",
       "      <td>23.000000</td>\n",
       "      <td>8880.000000</td>\n",
       "      <td>2.000000</td>\n",
       "      <td>75.000000</td>\n",
       "      <td>3.000000</td>\n",
       "      <td>76.000000</td>\n",
       "    </tr>\n",
       "    <tr>\n",
       "      <th>max</th>\n",
       "      <td>74498.000000</td>\n",
       "      <td>59.000000</td>\n",
       "      <td>51.000000</td>\n",
       "      <td>16149.000000</td>\n",
       "      <td>4.000000</td>\n",
       "      <td>99.000000</td>\n",
       "      <td>6.000000</td>\n",
       "      <td>128.000000</td>\n",
       "    </tr>\n",
       "  </tbody>\n",
       "</table>\n",
       "</div>"
      ],
      "text/plain": [
       "        Employee ID           Age  Years at Company  Monthly Income  \\\n",
       "count  59598.000000  59598.000000      59598.000000    59598.000000   \n",
       "mean   37227.118729     38.565875         15.753901     7302.397983   \n",
       "std    21519.150028     12.079673         11.245981     2151.457423   \n",
       "min        1.000000     18.000000          1.000000     1316.000000   \n",
       "25%    18580.250000     28.000000          7.000000     5658.000000   \n",
       "50%    37209.500000     39.000000         13.000000     7354.000000   \n",
       "75%    55876.750000     49.000000         23.000000     8880.000000   \n",
       "max    74498.000000     59.000000         51.000000    16149.000000   \n",
       "\n",
       "       Number of Promotions  Distance from Home  Number of Dependents  \\\n",
       "count          59598.000000        59598.000000          59598.000000   \n",
       "mean               0.832578           50.007651              1.648075   \n",
       "std                0.994991           28.466459              1.555689   \n",
       "min                0.000000            1.000000              0.000000   \n",
       "25%                0.000000           25.000000              0.000000   \n",
       "50%                1.000000           50.000000              1.000000   \n",
       "75%                2.000000           75.000000              3.000000   \n",
       "max                4.000000           99.000000              6.000000   \n",
       "\n",
       "       Company Tenure  \n",
       "count    59598.000000  \n",
       "mean        55.758415  \n",
       "std         25.411090  \n",
       "min          2.000000  \n",
       "25%         36.000000  \n",
       "50%         56.000000  \n",
       "75%         76.000000  \n",
       "max        128.000000  "
      ]
     },
     "execution_count": 15,
     "metadata": {},
     "output_type": "execute_result"
    }
   ],
   "source": [
    "df.describe()"
   ]
  },
  {
   "cell_type": "markdown",
   "id": "24f7c892",
   "metadata": {},
   "source": [
    "### Years at Company"
   ]
  },
  {
   "cell_type": "code",
   "execution_count": 26,
   "id": "e5c6e93c",
   "metadata": {},
   "outputs": [
    {
     "data": {
      "text/plain": [
       "array([19,  4, 10,  7, 41,  3, 23, 16, 44,  1, 12,  6, 38, 22, 30,  9, 37,\n",
       "       33, 13,  5, 21, 32, 34, 11,  2, 18, 27, 17, 36,  8, 28, 35, 14, 24,\n",
       "       40, 15, 45, 39, 20, 43, 26, 29, 46, 42, 25, 31, 47, 48, 49, 50, 51])"
      ]
     },
     "execution_count": 26,
     "metadata": {},
     "output_type": "execute_result"
    }
   ],
   "source": [
    "df[\"Years at Company\"].unique()"
   ]
  },
  {
   "cell_type": "code",
   "execution_count": 16,
   "id": "d55b683e",
   "metadata": {},
   "outputs": [
    {
     "data": {
      "text/plain": [
       "0    5\n",
       "Name: Years at Company, dtype: int64"
      ]
     },
     "execution_count": 16,
     "metadata": {},
     "output_type": "execute_result"
    }
   ],
   "source": [
    "#The mode of the years at the company\n",
    "df[\"Years at Company\"].mode()"
   ]
  },
  {
   "cell_type": "code",
   "execution_count": 74,
   "id": "bd0a8336",
   "metadata": {},
   "outputs": [
    {
     "data": {
      "text/plain": [
       "Years at Company\n",
       "5     2456\n",
       "2     2453\n",
       "1     2421\n",
       "8     2403\n",
       "9     2400\n",
       "10    2380\n",
       "3     2366\n",
       "6     2344\n",
       "7     2336\n",
       "11    2326\n",
       "4     2302\n",
       "12    2206\n",
       "13    2048\n",
       "14    1910\n",
       "15    1837\n",
       "16    1726\n",
       "17    1570\n",
       "18    1483\n",
       "19    1403\n",
       "20    1365\n",
       "21    1272\n",
       "23    1223\n",
       "22    1215\n",
       "24    1101\n",
       "25    1023\n",
       "26     998\n",
       "27     984\n",
       "28     889\n",
       "29     854\n",
       "30     793\n",
       "31     761\n",
       "32     706\n",
       "33     657\n",
       "34     648\n",
       "36     519\n",
       "35     508\n",
       "37     464\n",
       "38     454\n",
       "39     446\n",
       "40     381\n",
       "41     345\n",
       "42     294\n",
       "43     266\n",
       "45     239\n",
       "44     216\n",
       "46     189\n",
       "47     145\n",
       "48     111\n",
       "49      87\n",
       "50      49\n",
       "51      26\n",
       "Name: count, dtype: int64"
      ]
     },
     "execution_count": 74,
     "metadata": {},
     "output_type": "execute_result"
    }
   ],
   "source": [
    "df[\"Years at Company\"].value_counts()"
   ]
  },
  {
   "cell_type": "code",
   "execution_count": 18,
   "id": "0d9db02d",
   "metadata": {},
   "outputs": [
    {
     "data": {
      "text/plain": [
       "Attrition\n",
       "Left      14.987226\n",
       "Stayed    16.448912\n",
       "Name: Years at Company, dtype: float64"
      ]
     },
     "execution_count": 18,
     "metadata": {},
     "output_type": "execute_result"
    }
   ],
   "source": [
    "df.groupby([\"Attrition\"])['Years at Company'].mean()"
   ]
  },
  {
   "cell_type": "code",
   "execution_count": 24,
   "id": "e352724a",
   "metadata": {},
   "outputs": [
    {
     "data": {
      "text/plain": [
       "0    5\n",
       "Name: Years at Company, dtype: int64"
      ]
     },
     "execution_count": 24,
     "metadata": {},
     "output_type": "execute_result"
    }
   ],
   "source": [
    "df.loc[df[\"Attrition\"] == \"Left\", \"Years at Company\"].mode()"
   ]
  },
  {
   "cell_type": "code",
   "execution_count": 25,
   "id": "df6508f5",
   "metadata": {},
   "outputs": [
    {
     "data": {
      "text/plain": [
       "0    10\n",
       "Name: Years at Company, dtype: int64"
      ]
     },
     "execution_count": 25,
     "metadata": {},
     "output_type": "execute_result"
    }
   ],
   "source": [
    "df.loc[df[\"Attrition\"] == \"Stayed\", \"Years at Company\"].mode()"
   ]
  },
  {
   "cell_type": "code",
   "execution_count": 48,
   "id": "68be4123",
   "metadata": {},
   "outputs": [
    {
     "data": {
      "text/plain": [
       "21955"
      ]
     },
     "execution_count": 48,
     "metadata": {},
     "output_type": "execute_result"
    }
   ],
   "source": [
    "len(df.loc[(df[\"Attrition\"] == \"Left\") & (df[\"Years at Company\"] > 5)])"
   ]
  },
  {
   "cell_type": "code",
   "execution_count": 51,
   "id": "91803961",
   "metadata": {},
   "outputs": [
    {
     "data": {
      "text/plain": [
       "5051"
      ]
     },
     "execution_count": 51,
     "metadata": {},
     "output_type": "execute_result"
    }
   ],
   "source": [
    "len(df.loc[(df[\"Attrition\"] == \"Left\") & (df[\"Years at Company\"] < 5)])"
   ]
  },
  {
   "cell_type": "code",
   "execution_count": 49,
   "id": "9c7c32ff",
   "metadata": {},
   "outputs": [
    {
     "data": {
      "text/plain": [
       "25645"
      ]
     },
     "execution_count": 49,
     "metadata": {},
     "output_type": "execute_result"
    }
   ],
   "source": [
    "len(df.loc[(df[\"Attrition\"] == \"Stayed\") & (df[\"Years at Company\"] > 5)])"
   ]
  },
  {
   "cell_type": "code",
   "execution_count": 50,
   "id": "975c8ee9",
   "metadata": {},
   "outputs": [
    {
     "data": {
      "text/plain": [
       "4491"
      ]
     },
     "execution_count": 50,
     "metadata": {},
     "output_type": "execute_result"
    }
   ],
   "source": [
    "len(df.loc[(df[\"Attrition\"] == \"Stayed\") & (df[\"Years at Company\"] < 5)])"
   ]
  },
  {
   "cell_type": "code",
   "execution_count": 54,
   "id": "a6e78d81",
   "metadata": {},
   "outputs": [
    {
     "data": {
      "text/plain": [
       "47600"
      ]
     },
     "execution_count": 54,
     "metadata": {},
     "output_type": "execute_result"
    }
   ],
   "source": [
    "len(df[df[\"Years at Company\"] > 5])"
   ]
  },
  {
   "cell_type": "code",
   "execution_count": 55,
   "id": "c0a7f592",
   "metadata": {},
   "outputs": [
    {
     "data": {
      "text/plain": [
       "9542"
      ]
     },
     "execution_count": 55,
     "metadata": {},
     "output_type": "execute_result"
    }
   ],
   "source": [
    "len(df[df[\"Years at Company\"] < 5])"
   ]
  },
  {
   "cell_type": "markdown",
   "id": "da4f34bb",
   "metadata": {},
   "source": [
    "### Monthly Income"
   ]
  },
  {
   "cell_type": "code",
   "execution_count": 56,
   "id": "365b01f2",
   "metadata": {},
   "outputs": [
    {
     "data": {
      "text/plain": [
       "count    59598.000000\n",
       "mean      7302.397983\n",
       "std       2151.457423\n",
       "min       1316.000000\n",
       "25%       5658.000000\n",
       "50%       7354.000000\n",
       "75%       8880.000000\n",
       "max      16149.000000\n",
       "Name: Monthly Income, dtype: float64"
      ]
     },
     "execution_count": 56,
     "metadata": {},
     "output_type": "execute_result"
    }
   ],
   "source": [
    "df[\"Monthly Income\"].describe()"
   ]
  },
  {
   "cell_type": "code",
   "execution_count": 58,
   "id": "5cb3fd6a",
   "metadata": {},
   "outputs": [
    {
     "data": {
      "text/plain": [
       "Attrition\n",
       "Left      7276.689533\n",
       "Stayed    7325.703359\n",
       "Name: Monthly Income, dtype: float64"
      ]
     },
     "execution_count": 58,
     "metadata": {},
     "output_type": "execute_result"
    }
   ],
   "source": [
    "df.groupby([\"Attrition\"])[\"Monthly Income\"].mean()"
   ]
  },
  {
   "cell_type": "code",
   "execution_count": 75,
   "id": "cc0d5dd6",
   "metadata": {},
   "outputs": [],
   "source": [
    "income_mean = float(df[\"Monthly Income\"].describe()[\"mean\"])\n",
    "income_mean\n",
    "income_min = float(df[\"Monthly Income\"].describe()[\"min\"])\n"
   ]
  },
  {
   "cell_type": "code",
   "execution_count": 68,
   "id": "725568a9",
   "metadata": {},
   "outputs": [
    {
     "data": {
      "text/plain": [
       "7276.689533488602"
      ]
     },
     "execution_count": 68,
     "metadata": {},
     "output_type": "execute_result"
    }
   ],
   "source": [
    "left_income_mean = float(df.groupby([\"Attrition\"])[\"Monthly Income\"].mean()[\"Left\"])\n",
    "left_income_mean"
   ]
  },
  {
   "cell_type": "code",
   "execution_count": 65,
   "id": "f9b903d9",
   "metadata": {},
   "outputs": [
    {
     "data": {
      "text/plain": [
       "Attrition\n",
       "Left      7321.5\n",
       "Stayed    7380.0\n",
       "Name: Monthly Income, dtype: float64"
      ]
     },
     "execution_count": 65,
     "metadata": {},
     "output_type": "execute_result"
    }
   ],
   "source": [
    "df.groupby([\"Attrition\"])[\"Monthly Income\"].median()"
   ]
  },
  {
   "cell_type": "code",
   "execution_count": 63,
   "id": "bede3190",
   "metadata": {},
   "outputs": [
    {
     "name": "stdout",
     "output_type": "stream",
     "text": [
      "1316\n",
      "16149\n"
     ]
    }
   ],
   "source": [
    "print(df.loc[(df[\"Attrition\"] == \"Left\"), \"Monthly Income\"].min())\n",
    "print(df.loc[(df[\"Attrition\"] == \"Left\"), \"Monthly Income\"].max())"
   ]
  },
  {
   "cell_type": "code",
   "execution_count": 64,
   "id": "6a93d1c0",
   "metadata": {},
   "outputs": [
    {
     "name": "stdout",
     "output_type": "stream",
     "text": [
      "1575\n",
      "15464\n"
     ]
    }
   ],
   "source": [
    "print(df.loc[(df[\"Attrition\"] == \"Stayed\"), \"Monthly Income\"].min())\n",
    "print(df.loc[(df[\"Attrition\"] == \"Stayed\"), \"Monthly Income\"].max())"
   ]
  },
  {
   "cell_type": "code",
   "execution_count": 72,
   "id": "09b08f64",
   "metadata": {},
   "outputs": [
    {
     "name": "stdout",
     "output_type": "stream",
     "text": [
      "14097\n",
      "14241\n"
     ]
    }
   ],
   "source": [
    "print(len(df.loc[(df[\"Attrition\"] == \"Left\") & (df[\"Monthly Income\"] < income_mean)]))\n",
    "print(len(df.loc[(df[\"Attrition\"] == \"Left\") & (df[\"Monthly Income\"] > income_mean)]))"
   ]
  },
  {
   "cell_type": "code",
   "execution_count": 73,
   "id": "e07dbc8d",
   "metadata": {},
   "outputs": [
    {
     "name": "stdout",
     "output_type": "stream",
     "text": [
      "15308\n",
      "15952\n"
     ]
    }
   ],
   "source": [
    "print(len(df.loc[(df[\"Attrition\"] == \"Stayed\") & (df[\"Monthly Income\"] < income_mean)]))\n",
    "print(len(df.loc[(df[\"Attrition\"] == \"Stayed\") & (df[\"Monthly Income\"] > income_mean)]))"
   ]
  },
  {
   "cell_type": "markdown",
   "id": "17a86b4e",
   "metadata": {},
   "source": [
    "### Job Role"
   ]
  },
  {
   "cell_type": "code",
   "execution_count": 77,
   "id": "360dcb55",
   "metadata": {},
   "outputs": [
    {
     "data": {
      "text/plain": [
       "array(['Education', 'Media', 'Healthcare', 'Technology', 'Finance'],\n",
       "      dtype=object)"
      ]
     },
     "execution_count": 77,
     "metadata": {},
     "output_type": "execute_result"
    }
   ],
   "source": [
    "df[\"Job Role\"].unique()"
   ]
  },
  {
   "cell_type": "code",
   "execution_count": 78,
   "id": "8de62573",
   "metadata": {},
   "outputs": [
    {
     "data": {
      "text/plain": [
       "Job Role\n",
       "Technology    15507\n",
       "Healthcare    13642\n",
       "Education     12490\n",
       "Media          9574\n",
       "Finance        8385\n",
       "Name: count, dtype: int64"
      ]
     },
     "execution_count": 78,
     "metadata": {},
     "output_type": "execute_result"
    }
   ],
   "source": [
    "df[\"Job Role\"].value_counts()"
   ]
  },
  {
   "cell_type": "code",
   "execution_count": 81,
   "id": "489cc495",
   "metadata": {},
   "outputs": [
    {
     "data": {
      "text/plain": [
       "Attrition  Job Role  \n",
       "Left       Technology    7333\n",
       "           Healthcare    6454\n",
       "           Education     6085\n",
       "           Media         4542\n",
       "           Finance       3924\n",
       "Stayed     Technology    8174\n",
       "           Healthcare    7188\n",
       "           Education     6405\n",
       "           Media         5032\n",
       "           Finance       4461\n",
       "Name: count, dtype: int64"
      ]
     },
     "execution_count": 81,
     "metadata": {},
     "output_type": "execute_result"
    }
   ],
   "source": [
    "df.groupby([\"Attrition\"])[\"Job Role\"].value_counts()"
   ]
  },
  {
   "cell_type": "markdown",
   "id": "4ba8f38a",
   "metadata": {},
   "source": [
    "### Work-life Balance"
   ]
  },
  {
   "cell_type": "code",
   "execution_count": 83,
   "id": "f121c4f2",
   "metadata": {},
   "outputs": [
    {
     "data": {
      "text/plain": [
       "Work-Life Balance  Attrition\n",
       "Excellent          Stayed        6880\n",
       "                   Left          3839\n",
       "Fair               Left         10370\n",
       "                   Stayed        7676\n",
       "Good               Stayed       13391\n",
       "                   Left          9137\n",
       "Poor               Left          4992\n",
       "                   Stayed        3313\n",
       "Name: count, dtype: int64"
      ]
     },
     "execution_count": 83,
     "metadata": {},
     "output_type": "execute_result"
    }
   ],
   "source": [
    "df.groupby([\"Work-Life Balance\"])[\"Attrition\"].value_counts()"
   ]
  },
  {
   "cell_type": "code",
   "execution_count": 85,
   "id": "ff7bdbbb",
   "metadata": {},
   "outputs": [
    {
     "name": "stdout",
     "output_type": "stream",
     "text": [
      "2499\n",
      "2493\n"
     ]
    }
   ],
   "source": [
    "print(len(df.loc[(df[\"Attrition\"] == \"Left\") & (df[\"Work-Life Balance\"] == \"Poor\") & (df[\"Monthly Income\"] < income_mean)]))\n",
    "print(len(df.loc[(df[\"Attrition\"] == \"Left\") & (df[\"Work-Life Balance\"] == \"Poor\") & (df[\"Monthly Income\"] > income_mean)]))"
   ]
  },
  {
   "cell_type": "code",
   "execution_count": 89,
   "id": "29abeeb6",
   "metadata": {},
   "outputs": [
    {
     "data": {
      "text/plain": [
       "Job Role    Work-Life Balance\n",
       "Education   Good                 4730\n",
       "            Fair                 3741\n",
       "            Excellent            2240\n",
       "            Poor                 1779\n",
       "Finance     Good                 3238\n",
       "            Fair                 2469\n",
       "            Excellent            1522\n",
       "            Poor                 1156\n",
       "Healthcare  Good                 5145\n",
       "            Fair                 4134\n",
       "            Excellent            2481\n",
       "            Poor                 1882\n",
       "Media       Good                 3591\n",
       "            Fair                 2960\n",
       "            Excellent            1685\n",
       "            Poor                 1338\n",
       "Technology  Good                 5824\n",
       "            Fair                 4742\n",
       "            Excellent            2791\n",
       "            Poor                 2150\n",
       "Name: count, dtype: int64"
      ]
     },
     "execution_count": 89,
     "metadata": {},
     "output_type": "execute_result"
    }
   ],
   "source": [
    "df.groupby([\"Job Role\"])[\"Work-Life Balance\"].value_counts()"
   ]
  }
 ],
 "metadata": {
  "kernelspec": {
   "display_name": ".venv (3.13.6)",
   "language": "python",
   "name": "python3"
  },
  "language_info": {
   "codemirror_mode": {
    "name": "ipython",
    "version": 3
   },
   "file_extension": ".py",
   "mimetype": "text/x-python",
   "name": "python",
   "nbconvert_exporter": "python",
   "pygments_lexer": "ipython3",
   "version": "3.13.6"
  }
 },
 "nbformat": 4,
 "nbformat_minor": 5
}

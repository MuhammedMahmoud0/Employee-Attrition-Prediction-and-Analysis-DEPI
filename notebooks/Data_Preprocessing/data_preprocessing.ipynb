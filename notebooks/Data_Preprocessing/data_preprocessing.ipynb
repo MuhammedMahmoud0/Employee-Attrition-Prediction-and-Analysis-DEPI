{
 "cells": [
  {
   "cell_type": "code",
   "execution_count": 1,
   "id": "4a8e6670",
   "metadata": {},
   "outputs": [],
   "source": [
    "import pandas as pd\n",
    "import matplotlib.pyplot as plt"
   ]
  },
  {
   "cell_type": "code",
   "execution_count": 2,
   "id": "cb82c607",
   "metadata": {},
   "outputs": [],
   "source": [
    "path = \"../../data/Cleaned_Data/train_cleaned.csv\"\n",
    "df = pd.read_csv(path)"
   ]
  },
  {
   "cell_type": "code",
   "execution_count": 3,
   "id": "95b47e95",
   "metadata": {},
   "outputs": [
    {
     "data": {
      "text/html": [
       "<div>\n",
       "<style scoped>\n",
       "    .dataframe tbody tr th:only-of-type {\n",
       "        vertical-align: middle;\n",
       "    }\n",
       "\n",
       "    .dataframe tbody tr th {\n",
       "        vertical-align: top;\n",
       "    }\n",
       "\n",
       "    .dataframe thead th {\n",
       "        text-align: right;\n",
       "    }\n",
       "</style>\n",
       "<table border=\"1\" class=\"dataframe\">\n",
       "  <thead>\n",
       "    <tr style=\"text-align: right;\">\n",
       "      <th></th>\n",
       "      <th>employee_id</th>\n",
       "      <th>age</th>\n",
       "      <th>gender</th>\n",
       "      <th>years_at_company</th>\n",
       "      <th>job_role</th>\n",
       "      <th>monthly_income</th>\n",
       "      <th>work-life_balance</th>\n",
       "      <th>job_satisfaction</th>\n",
       "      <th>performance_rating</th>\n",
       "      <th>number_of_promotions</th>\n",
       "      <th>...</th>\n",
       "      <th>number_of_dependents</th>\n",
       "      <th>job_level</th>\n",
       "      <th>company_size</th>\n",
       "      <th>company_tenure</th>\n",
       "      <th>remote_work</th>\n",
       "      <th>leadership_opportunities</th>\n",
       "      <th>innovation_opportunities</th>\n",
       "      <th>company_reputation</th>\n",
       "      <th>employee_recognition</th>\n",
       "      <th>attrition</th>\n",
       "    </tr>\n",
       "  </thead>\n",
       "  <tbody>\n",
       "    <tr>\n",
       "      <th>0</th>\n",
       "      <td>8410</td>\n",
       "      <td>31</td>\n",
       "      <td>Male</td>\n",
       "      <td>19</td>\n",
       "      <td>Education</td>\n",
       "      <td>5390</td>\n",
       "      <td>Excellent</td>\n",
       "      <td>Medium</td>\n",
       "      <td>Average</td>\n",
       "      <td>2</td>\n",
       "      <td>...</td>\n",
       "      <td>0</td>\n",
       "      <td>Mid</td>\n",
       "      <td>Medium</td>\n",
       "      <td>89</td>\n",
       "      <td>No</td>\n",
       "      <td>No</td>\n",
       "      <td>No</td>\n",
       "      <td>Excellent</td>\n",
       "      <td>Medium</td>\n",
       "      <td>Stayed</td>\n",
       "    </tr>\n",
       "    <tr>\n",
       "      <th>1</th>\n",
       "      <td>64756</td>\n",
       "      <td>59</td>\n",
       "      <td>Female</td>\n",
       "      <td>4</td>\n",
       "      <td>Media</td>\n",
       "      <td>5534</td>\n",
       "      <td>Poor</td>\n",
       "      <td>High</td>\n",
       "      <td>Low</td>\n",
       "      <td>3</td>\n",
       "      <td>...</td>\n",
       "      <td>3</td>\n",
       "      <td>Mid</td>\n",
       "      <td>Medium</td>\n",
       "      <td>21</td>\n",
       "      <td>No</td>\n",
       "      <td>No</td>\n",
       "      <td>No</td>\n",
       "      <td>Fair</td>\n",
       "      <td>Low</td>\n",
       "      <td>Stayed</td>\n",
       "    </tr>\n",
       "    <tr>\n",
       "      <th>2</th>\n",
       "      <td>30257</td>\n",
       "      <td>24</td>\n",
       "      <td>Female</td>\n",
       "      <td>10</td>\n",
       "      <td>Healthcare</td>\n",
       "      <td>8159</td>\n",
       "      <td>Good</td>\n",
       "      <td>High</td>\n",
       "      <td>Low</td>\n",
       "      <td>0</td>\n",
       "      <td>...</td>\n",
       "      <td>3</td>\n",
       "      <td>Mid</td>\n",
       "      <td>Medium</td>\n",
       "      <td>74</td>\n",
       "      <td>No</td>\n",
       "      <td>No</td>\n",
       "      <td>No</td>\n",
       "      <td>Poor</td>\n",
       "      <td>Low</td>\n",
       "      <td>Stayed</td>\n",
       "    </tr>\n",
       "    <tr>\n",
       "      <th>3</th>\n",
       "      <td>65791</td>\n",
       "      <td>36</td>\n",
       "      <td>Female</td>\n",
       "      <td>7</td>\n",
       "      <td>Education</td>\n",
       "      <td>3989</td>\n",
       "      <td>Good</td>\n",
       "      <td>High</td>\n",
       "      <td>High</td>\n",
       "      <td>1</td>\n",
       "      <td>...</td>\n",
       "      <td>2</td>\n",
       "      <td>Mid</td>\n",
       "      <td>Small</td>\n",
       "      <td>50</td>\n",
       "      <td>Yes</td>\n",
       "      <td>No</td>\n",
       "      <td>No</td>\n",
       "      <td>Good</td>\n",
       "      <td>Medium</td>\n",
       "      <td>Stayed</td>\n",
       "    </tr>\n",
       "    <tr>\n",
       "      <th>4</th>\n",
       "      <td>65026</td>\n",
       "      <td>56</td>\n",
       "      <td>Male</td>\n",
       "      <td>41</td>\n",
       "      <td>Education</td>\n",
       "      <td>4821</td>\n",
       "      <td>Fair</td>\n",
       "      <td>Very High</td>\n",
       "      <td>Average</td>\n",
       "      <td>0</td>\n",
       "      <td>...</td>\n",
       "      <td>0</td>\n",
       "      <td>Senior</td>\n",
       "      <td>Medium</td>\n",
       "      <td>68</td>\n",
       "      <td>No</td>\n",
       "      <td>No</td>\n",
       "      <td>No</td>\n",
       "      <td>Fair</td>\n",
       "      <td>Medium</td>\n",
       "      <td>Stayed</td>\n",
       "    </tr>\n",
       "  </tbody>\n",
       "</table>\n",
       "<p>5 rows × 24 columns</p>\n",
       "</div>"
      ],
      "text/plain": [
       "   employee_id  age  gender  years_at_company    job_role  monthly_income  \\\n",
       "0         8410   31    Male                19   Education            5390   \n",
       "1        64756   59  Female                 4       Media            5534   \n",
       "2        30257   24  Female                10  Healthcare            8159   \n",
       "3        65791   36  Female                 7   Education            3989   \n",
       "4        65026   56    Male                41   Education            4821   \n",
       "\n",
       "  work-life_balance job_satisfaction performance_rating  number_of_promotions  \\\n",
       "0         Excellent           Medium            Average                     2   \n",
       "1              Poor             High                Low                     3   \n",
       "2              Good             High                Low                     0   \n",
       "3              Good             High               High                     1   \n",
       "4              Fair        Very High            Average                     0   \n",
       "\n",
       "   ... number_of_dependents  job_level company_size company_tenure  \\\n",
       "0  ...                    0        Mid       Medium             89   \n",
       "1  ...                    3        Mid       Medium             21   \n",
       "2  ...                    3        Mid       Medium             74   \n",
       "3  ...                    2        Mid        Small             50   \n",
       "4  ...                    0     Senior       Medium             68   \n",
       "\n",
       "   remote_work leadership_opportunities innovation_opportunities  \\\n",
       "0           No                       No                       No   \n",
       "1           No                       No                       No   \n",
       "2           No                       No                       No   \n",
       "3          Yes                       No                       No   \n",
       "4           No                       No                       No   \n",
       "\n",
       "   company_reputation employee_recognition attrition  \n",
       "0           Excellent               Medium    Stayed  \n",
       "1                Fair                  Low    Stayed  \n",
       "2                Poor                  Low    Stayed  \n",
       "3                Good               Medium    Stayed  \n",
       "4                Fair               Medium    Stayed  \n",
       "\n",
       "[5 rows x 24 columns]"
      ]
     },
     "execution_count": 3,
     "metadata": {},
     "output_type": "execute_result"
    }
   ],
   "source": [
    "df.head()"
   ]
  },
  {
   "cell_type": "code",
   "execution_count": 4,
   "id": "fd1c3b09",
   "metadata": {},
   "outputs": [
    {
     "data": {
      "text/plain": [
       "employee_id                 0\n",
       "age                         0\n",
       "gender                      0\n",
       "years_at_company            0\n",
       "job_role                    0\n",
       "monthly_income              0\n",
       "work-life_balance           0\n",
       "job_satisfaction            0\n",
       "performance_rating          0\n",
       "number_of_promotions        0\n",
       "overtime                    0\n",
       "distance_from_home          0\n",
       "education_level             0\n",
       "marital_status              0\n",
       "number_of_dependents        0\n",
       "job_level                   0\n",
       "company_size                0\n",
       "company_tenure              0\n",
       "remote_work                 0\n",
       "leadership_opportunities    0\n",
       "innovation_opportunities    0\n",
       "company_reputation          0\n",
       "employee_recognition        0\n",
       "attrition                   0\n",
       "dtype: int64"
      ]
     },
     "execution_count": 4,
     "metadata": {},
     "output_type": "execute_result"
    }
   ],
   "source": [
    "df.isna().sum()"
   ]
  },
  {
   "cell_type": "code",
   "execution_count": 5,
   "id": "49c0247c",
   "metadata": {},
   "outputs": [
    {
     "data": {
      "text/plain": [
       "np.int64(0)"
      ]
     },
     "execution_count": 5,
     "metadata": {},
     "output_type": "execute_result"
    }
   ],
   "source": [
    "df.duplicated().sum()"
   ]
  },
  {
   "cell_type": "code",
   "execution_count": 6,
   "id": "28f6c145",
   "metadata": {},
   "outputs": [
    {
     "data": {
      "text/plain": [
       "59598"
      ]
     },
     "execution_count": 6,
     "metadata": {},
     "output_type": "execute_result"
    }
   ],
   "source": [
    "len(df)"
   ]
  },
  {
   "cell_type": "code",
   "execution_count": 7,
   "id": "9cb38f2e",
   "metadata": {},
   "outputs": [
    {
     "name": "stdout",
     "output_type": "stream",
     "text": [
      "<class 'pandas.core.frame.DataFrame'>\n",
      "RangeIndex: 59598 entries, 0 to 59597\n",
      "Data columns (total 24 columns):\n",
      " #   Column                    Non-Null Count  Dtype \n",
      "---  ------                    --------------  ----- \n",
      " 0   employee_id               59598 non-null  int64 \n",
      " 1   age                       59598 non-null  int64 \n",
      " 2   gender                    59598 non-null  object\n",
      " 3   years_at_company          59598 non-null  int64 \n",
      " 4   job_role                  59598 non-null  object\n",
      " 5   monthly_income            59598 non-null  int64 \n",
      " 6   work-life_balance         59598 non-null  object\n",
      " 7   job_satisfaction          59598 non-null  object\n",
      " 8   performance_rating        59598 non-null  object\n",
      " 9   number_of_promotions      59598 non-null  int64 \n",
      " 10  overtime                  59598 non-null  object\n",
      " 11  distance_from_home        59598 non-null  int64 \n",
      " 12  education_level           59598 non-null  object\n",
      " 13  marital_status            59598 non-null  object\n",
      " 14  number_of_dependents      59598 non-null  int64 \n",
      " 15  job_level                 59598 non-null  object\n",
      " 16  company_size              59598 non-null  object\n",
      " 17  company_tenure            59598 non-null  int64 \n",
      " 18  remote_work               59598 non-null  object\n",
      " 19  leadership_opportunities  59598 non-null  object\n",
      " 20  innovation_opportunities  59598 non-null  object\n",
      " 21  company_reputation        59598 non-null  object\n",
      " 22  employee_recognition      59598 non-null  object\n",
      " 23  attrition                 59598 non-null  object\n",
      "dtypes: int64(8), object(16)\n",
      "memory usage: 10.9+ MB\n"
     ]
    }
   ],
   "source": [
    "df.info()"
   ]
  },
  {
   "cell_type": "code",
   "execution_count": 8,
   "id": "02813dae",
   "metadata": {},
   "outputs": [
    {
     "data": {
      "text/html": [
       "<div>\n",
       "<style scoped>\n",
       "    .dataframe tbody tr th:only-of-type {\n",
       "        vertical-align: middle;\n",
       "    }\n",
       "\n",
       "    .dataframe tbody tr th {\n",
       "        vertical-align: top;\n",
       "    }\n",
       "\n",
       "    .dataframe thead th {\n",
       "        text-align: right;\n",
       "    }\n",
       "</style>\n",
       "<table border=\"1\" class=\"dataframe\">\n",
       "  <thead>\n",
       "    <tr style=\"text-align: right;\">\n",
       "      <th></th>\n",
       "      <th>employee_id</th>\n",
       "      <th>age</th>\n",
       "      <th>years_at_company</th>\n",
       "      <th>monthly_income</th>\n",
       "      <th>number_of_promotions</th>\n",
       "      <th>distance_from_home</th>\n",
       "      <th>number_of_dependents</th>\n",
       "      <th>company_tenure</th>\n",
       "    </tr>\n",
       "  </thead>\n",
       "  <tbody>\n",
       "    <tr>\n",
       "      <th>count</th>\n",
       "      <td>59598.000000</td>\n",
       "      <td>59598.000000</td>\n",
       "      <td>59598.000000</td>\n",
       "      <td>59598.000000</td>\n",
       "      <td>59598.000000</td>\n",
       "      <td>59598.000000</td>\n",
       "      <td>59598.000000</td>\n",
       "      <td>59598.000000</td>\n",
       "    </tr>\n",
       "    <tr>\n",
       "      <th>mean</th>\n",
       "      <td>37227.118729</td>\n",
       "      <td>38.565875</td>\n",
       "      <td>15.753901</td>\n",
       "      <td>7302.397983</td>\n",
       "      <td>0.832578</td>\n",
       "      <td>50.007651</td>\n",
       "      <td>1.648075</td>\n",
       "      <td>55.758415</td>\n",
       "    </tr>\n",
       "    <tr>\n",
       "      <th>std</th>\n",
       "      <td>21519.150028</td>\n",
       "      <td>12.079673</td>\n",
       "      <td>11.245981</td>\n",
       "      <td>2151.457423</td>\n",
       "      <td>0.994991</td>\n",
       "      <td>28.466459</td>\n",
       "      <td>1.555689</td>\n",
       "      <td>25.411090</td>\n",
       "    </tr>\n",
       "    <tr>\n",
       "      <th>min</th>\n",
       "      <td>1.000000</td>\n",
       "      <td>18.000000</td>\n",
       "      <td>1.000000</td>\n",
       "      <td>1316.000000</td>\n",
       "      <td>0.000000</td>\n",
       "      <td>1.000000</td>\n",
       "      <td>0.000000</td>\n",
       "      <td>2.000000</td>\n",
       "    </tr>\n",
       "    <tr>\n",
       "      <th>25%</th>\n",
       "      <td>18580.250000</td>\n",
       "      <td>28.000000</td>\n",
       "      <td>7.000000</td>\n",
       "      <td>5658.000000</td>\n",
       "      <td>0.000000</td>\n",
       "      <td>25.000000</td>\n",
       "      <td>0.000000</td>\n",
       "      <td>36.000000</td>\n",
       "    </tr>\n",
       "    <tr>\n",
       "      <th>50%</th>\n",
       "      <td>37209.500000</td>\n",
       "      <td>39.000000</td>\n",
       "      <td>13.000000</td>\n",
       "      <td>7354.000000</td>\n",
       "      <td>1.000000</td>\n",
       "      <td>50.000000</td>\n",
       "      <td>1.000000</td>\n",
       "      <td>56.000000</td>\n",
       "    </tr>\n",
       "    <tr>\n",
       "      <th>75%</th>\n",
       "      <td>55876.750000</td>\n",
       "      <td>49.000000</td>\n",
       "      <td>23.000000</td>\n",
       "      <td>8880.000000</td>\n",
       "      <td>2.000000</td>\n",
       "      <td>75.000000</td>\n",
       "      <td>3.000000</td>\n",
       "      <td>76.000000</td>\n",
       "    </tr>\n",
       "    <tr>\n",
       "      <th>max</th>\n",
       "      <td>74498.000000</td>\n",
       "      <td>59.000000</td>\n",
       "      <td>51.000000</td>\n",
       "      <td>16149.000000</td>\n",
       "      <td>4.000000</td>\n",
       "      <td>99.000000</td>\n",
       "      <td>6.000000</td>\n",
       "      <td>128.000000</td>\n",
       "    </tr>\n",
       "  </tbody>\n",
       "</table>\n",
       "</div>"
      ],
      "text/plain": [
       "        employee_id           age  years_at_company  monthly_income  \\\n",
       "count  59598.000000  59598.000000      59598.000000    59598.000000   \n",
       "mean   37227.118729     38.565875         15.753901     7302.397983   \n",
       "std    21519.150028     12.079673         11.245981     2151.457423   \n",
       "min        1.000000     18.000000          1.000000     1316.000000   \n",
       "25%    18580.250000     28.000000          7.000000     5658.000000   \n",
       "50%    37209.500000     39.000000         13.000000     7354.000000   \n",
       "75%    55876.750000     49.000000         23.000000     8880.000000   \n",
       "max    74498.000000     59.000000         51.000000    16149.000000   \n",
       "\n",
       "       number_of_promotions  distance_from_home  number_of_dependents  \\\n",
       "count          59598.000000        59598.000000          59598.000000   \n",
       "mean               0.832578           50.007651              1.648075   \n",
       "std                0.994991           28.466459              1.555689   \n",
       "min                0.000000            1.000000              0.000000   \n",
       "25%                0.000000           25.000000              0.000000   \n",
       "50%                1.000000           50.000000              1.000000   \n",
       "75%                2.000000           75.000000              3.000000   \n",
       "max                4.000000           99.000000              6.000000   \n",
       "\n",
       "       company_tenure  \n",
       "count    59598.000000  \n",
       "mean        55.758415  \n",
       "std         25.411090  \n",
       "min          2.000000  \n",
       "25%         36.000000  \n",
       "50%         56.000000  \n",
       "75%         76.000000  \n",
       "max        128.000000  "
      ]
     },
     "execution_count": 8,
     "metadata": {},
     "output_type": "execute_result"
    }
   ],
   "source": [
    "df.describe()"
   ]
  },
  {
   "cell_type": "markdown",
   "id": "24f7c892",
   "metadata": {},
   "source": [
    "### Years at Company"
   ]
  },
  {
   "cell_type": "code",
   "execution_count": 9,
   "id": "e5c6e93c",
   "metadata": {},
   "outputs": [
    {
     "data": {
      "text/plain": [
       "array([19,  4, 10,  7, 41,  3, 23, 16, 44,  1, 12,  6, 38, 22, 30,  9, 37,\n",
       "       33, 13,  5, 21, 32, 34, 11,  2, 18, 27, 17, 36,  8, 28, 35, 14, 24,\n",
       "       40, 15, 45, 39, 20, 43, 26, 29, 46, 42, 25, 31, 47, 48, 49, 50, 51])"
      ]
     },
     "execution_count": 9,
     "metadata": {},
     "output_type": "execute_result"
    }
   ],
   "source": [
    "df[\"years_at_company\"].unique()"
   ]
  },
  {
   "cell_type": "code",
   "execution_count": 10,
   "id": "d55b683e",
   "metadata": {},
   "outputs": [
    {
     "data": {
      "text/plain": [
       "0    5\n",
       "Name: years_at_company, dtype: int64"
      ]
     },
     "execution_count": 10,
     "metadata": {},
     "output_type": "execute_result"
    }
   ],
   "source": [
    "#The mode of the years at the company\n",
    "df[\"years_at_company\"].mode()"
   ]
  },
  {
   "cell_type": "code",
   "execution_count": 11,
   "id": "bd0a8336",
   "metadata": {},
   "outputs": [
    {
     "data": {
      "text/plain": [
       "years_at_company\n",
       "5     2456\n",
       "2     2453\n",
       "1     2421\n",
       "8     2403\n",
       "9     2400\n",
       "10    2380\n",
       "3     2366\n",
       "6     2344\n",
       "7     2336\n",
       "11    2326\n",
       "4     2302\n",
       "12    2206\n",
       "13    2048\n",
       "14    1910\n",
       "15    1837\n",
       "16    1726\n",
       "17    1570\n",
       "18    1483\n",
       "19    1403\n",
       "20    1365\n",
       "21    1272\n",
       "23    1223\n",
       "22    1215\n",
       "24    1101\n",
       "25    1023\n",
       "26     998\n",
       "27     984\n",
       "28     889\n",
       "29     854\n",
       "30     793\n",
       "31     761\n",
       "32     706\n",
       "33     657\n",
       "34     648\n",
       "36     519\n",
       "35     508\n",
       "37     464\n",
       "38     454\n",
       "39     446\n",
       "40     381\n",
       "41     345\n",
       "42     294\n",
       "43     266\n",
       "45     239\n",
       "44     216\n",
       "46     189\n",
       "47     145\n",
       "48     111\n",
       "49      87\n",
       "50      49\n",
       "51      26\n",
       "Name: count, dtype: int64"
      ]
     },
     "execution_count": 11,
     "metadata": {},
     "output_type": "execute_result"
    }
   ],
   "source": [
    "df[\"years_at_company\"].value_counts()"
   ]
  },
  {
   "cell_type": "code",
   "execution_count": 12,
   "id": "0d9db02d",
   "metadata": {},
   "outputs": [
    {
     "data": {
      "text/plain": [
       "attrition\n",
       "Left      14.987226\n",
       "Stayed    16.448912\n",
       "Name: years_at_company, dtype: float64"
      ]
     },
     "execution_count": 12,
     "metadata": {},
     "output_type": "execute_result"
    }
   ],
   "source": [
    "df.groupby([\"attrition\"])['years_at_company'].mean()"
   ]
  },
  {
   "cell_type": "code",
   "execution_count": 13,
   "id": "e352724a",
   "metadata": {},
   "outputs": [
    {
     "data": {
      "text/plain": [
       "0    5\n",
       "Name: years_at_company, dtype: int64"
      ]
     },
     "execution_count": 13,
     "metadata": {},
     "output_type": "execute_result"
    }
   ],
   "source": [
    "df.loc[df[\"attrition\"] == \"Left\", \"years_at_company\"].mode()"
   ]
  },
  {
   "cell_type": "code",
   "execution_count": 14,
   "id": "df6508f5",
   "metadata": {},
   "outputs": [
    {
     "data": {
      "text/plain": [
       "0    10\n",
       "Name: years_at_company, dtype: int64"
      ]
     },
     "execution_count": 14,
     "metadata": {},
     "output_type": "execute_result"
    }
   ],
   "source": [
    "df.loc[df[\"attrition\"] == \"Stayed\", \"years_at_company\"].mode()"
   ]
  },
  {
   "cell_type": "code",
   "execution_count": 15,
   "id": "68be4123",
   "metadata": {},
   "outputs": [
    {
     "data": {
      "text/plain": [
       "21955"
      ]
     },
     "execution_count": 15,
     "metadata": {},
     "output_type": "execute_result"
    }
   ],
   "source": [
    "len(df.loc[(df[\"attrition\"] == \"Left\") & (df[\"years_at_company\"] > 5)])"
   ]
  },
  {
   "cell_type": "code",
   "execution_count": 16,
   "id": "91803961",
   "metadata": {},
   "outputs": [
    {
     "data": {
      "text/plain": [
       "5051"
      ]
     },
     "execution_count": 16,
     "metadata": {},
     "output_type": "execute_result"
    }
   ],
   "source": [
    "len(df.loc[(df[\"attrition\"] == \"Left\") & (df[\"years_at_company\"] < 5)])"
   ]
  },
  {
   "cell_type": "code",
   "execution_count": 17,
   "id": "9c7c32ff",
   "metadata": {},
   "outputs": [
    {
     "data": {
      "text/plain": [
       "25645"
      ]
     },
     "execution_count": 17,
     "metadata": {},
     "output_type": "execute_result"
    }
   ],
   "source": [
    "len(df.loc[(df[\"attrition\"] == \"Stayed\") & (df[\"years_at_company\"] > 5)])"
   ]
  },
  {
   "cell_type": "code",
   "execution_count": 18,
   "id": "975c8ee9",
   "metadata": {},
   "outputs": [
    {
     "data": {
      "text/plain": [
       "4491"
      ]
     },
     "execution_count": 18,
     "metadata": {},
     "output_type": "execute_result"
    }
   ],
   "source": [
    "len(df.loc[(df[\"attrition\"] == \"Stayed\") & (df[\"years_at_company\"] < 5)])"
   ]
  },
  {
   "cell_type": "code",
   "execution_count": 19,
   "id": "a6e78d81",
   "metadata": {},
   "outputs": [
    {
     "data": {
      "text/plain": [
       "47600"
      ]
     },
     "execution_count": 19,
     "metadata": {},
     "output_type": "execute_result"
    }
   ],
   "source": [
    "len(df[df[\"years_at_company\"] > 5])"
   ]
  },
  {
   "cell_type": "code",
   "execution_count": 20,
   "id": "c0a7f592",
   "metadata": {},
   "outputs": [
    {
     "data": {
      "text/plain": [
       "9542"
      ]
     },
     "execution_count": 20,
     "metadata": {},
     "output_type": "execute_result"
    }
   ],
   "source": [
    "len(df[df[\"years_at_company\"] < 5])"
   ]
  },
  {
   "cell_type": "markdown",
   "id": "da4f34bb",
   "metadata": {},
   "source": [
    "### Monthly Income"
   ]
  },
  {
   "cell_type": "code",
   "execution_count": 21,
   "id": "365b01f2",
   "metadata": {},
   "outputs": [
    {
     "data": {
      "text/plain": [
       "count    59598.000000\n",
       "mean      7302.397983\n",
       "std       2151.457423\n",
       "min       1316.000000\n",
       "25%       5658.000000\n",
       "50%       7354.000000\n",
       "75%       8880.000000\n",
       "max      16149.000000\n",
       "Name: monthly_income, dtype: float64"
      ]
     },
     "execution_count": 21,
     "metadata": {},
     "output_type": "execute_result"
    }
   ],
   "source": [
    "df[\"monthly_income\"].describe()"
   ]
  },
  {
   "cell_type": "code",
   "execution_count": 22,
   "id": "5cb3fd6a",
   "metadata": {},
   "outputs": [
    {
     "data": {
      "text/plain": [
       "attrition\n",
       "Left      7276.689533\n",
       "Stayed    7325.703359\n",
       "Name: monthly_income, dtype: float64"
      ]
     },
     "execution_count": 22,
     "metadata": {},
     "output_type": "execute_result"
    }
   ],
   "source": [
    "df.groupby([\"attrition\"])[\"monthly_income\"].mean()"
   ]
  },
  {
   "cell_type": "code",
   "execution_count": 23,
   "id": "cc0d5dd6",
   "metadata": {},
   "outputs": [],
   "source": [
    "income_mean = float(df[\"monthly_income\"].describe()[\"mean\"])\n",
    "income_mean\n",
    "income_min = float(df[\"monthly_income\"].describe()[\"min\"])\n"
   ]
  },
  {
   "cell_type": "code",
   "execution_count": 24,
   "id": "725568a9",
   "metadata": {},
   "outputs": [
    {
     "data": {
      "text/plain": [
       "7276.689533488602"
      ]
     },
     "execution_count": 24,
     "metadata": {},
     "output_type": "execute_result"
    }
   ],
   "source": [
    "left_income_mean = float(df.groupby([\"attrition\"])[\"monthly_income\"].mean()[\"Left\"])\n",
    "left_income_mean"
   ]
  },
  {
   "cell_type": "code",
   "execution_count": 25,
   "id": "f9b903d9",
   "metadata": {},
   "outputs": [
    {
     "data": {
      "text/plain": [
       "attrition\n",
       "Left      7321.5\n",
       "Stayed    7380.0\n",
       "Name: monthly_income, dtype: float64"
      ]
     },
     "execution_count": 25,
     "metadata": {},
     "output_type": "execute_result"
    }
   ],
   "source": [
    "df.groupby([\"attrition\"])[\"monthly_income\"].median()"
   ]
  },
  {
   "cell_type": "code",
   "execution_count": 26,
   "id": "bede3190",
   "metadata": {},
   "outputs": [
    {
     "name": "stdout",
     "output_type": "stream",
     "text": [
      "1316\n",
      "16149\n"
     ]
    }
   ],
   "source": [
    "print(df.loc[(df[\"attrition\"] == \"Left\"), \"monthly_income\"].min())\n",
    "print(df.loc[(df[\"attrition\"] == \"Left\"), \"monthly_income\"].max())"
   ]
  },
  {
   "cell_type": "code",
   "execution_count": 27,
   "id": "6a93d1c0",
   "metadata": {},
   "outputs": [
    {
     "name": "stdout",
     "output_type": "stream",
     "text": [
      "1575\n",
      "15464\n"
     ]
    }
   ],
   "source": [
    "print(df.loc[(df[\"attrition\"] == \"Stayed\"), \"monthly_income\"].min())\n",
    "print(df.loc[(df[\"attrition\"] == \"Stayed\"), \"monthly_income\"].max())"
   ]
  },
  {
   "cell_type": "code",
   "execution_count": 28,
   "id": "09b08f64",
   "metadata": {},
   "outputs": [
    {
     "name": "stdout",
     "output_type": "stream",
     "text": [
      "14097\n",
      "14241\n"
     ]
    }
   ],
   "source": [
    "print(len(df.loc[(df[\"attrition\"] == \"Left\") & (df[\"monthly_income\"] < income_mean)]))\n",
    "print(len(df.loc[(df[\"attrition\"] == \"Left\") & (df[\"monthly_income\"] > income_mean)]))"
   ]
  },
  {
   "cell_type": "code",
   "execution_count": 29,
   "id": "e07dbc8d",
   "metadata": {},
   "outputs": [
    {
     "name": "stdout",
     "output_type": "stream",
     "text": [
      "15308\n",
      "15952\n"
     ]
    }
   ],
   "source": [
    "print(len(df.loc[(df[\"attrition\"] == \"Stayed\") & (df[\"monthly_income\"] < income_mean)]))\n",
    "print(len(df.loc[(df[\"attrition\"] == \"Stayed\") & (df[\"monthly_income\"] > income_mean)]))"
   ]
  },
  {
   "cell_type": "markdown",
   "id": "17a86b4e",
   "metadata": {},
   "source": [
    "### Job Role"
   ]
  },
  {
   "cell_type": "code",
   "execution_count": 30,
   "id": "360dcb55",
   "metadata": {},
   "outputs": [
    {
     "data": {
      "text/plain": [
       "array(['Education', 'Media', 'Healthcare', 'Technology', 'Finance'],\n",
       "      dtype=object)"
      ]
     },
     "execution_count": 30,
     "metadata": {},
     "output_type": "execute_result"
    }
   ],
   "source": [
    "df[\"job_role\"].unique()"
   ]
  },
  {
   "cell_type": "code",
   "execution_count": 31,
   "id": "8de62573",
   "metadata": {},
   "outputs": [
    {
     "data": {
      "text/plain": [
       "job_role\n",
       "Technology    15507\n",
       "Healthcare    13642\n",
       "Education     12490\n",
       "Media          9574\n",
       "Finance        8385\n",
       "Name: count, dtype: int64"
      ]
     },
     "execution_count": 31,
     "metadata": {},
     "output_type": "execute_result"
    }
   ],
   "source": [
    "df[\"job_role\"].value_counts()"
   ]
  },
  {
   "cell_type": "code",
   "execution_count": 32,
   "id": "489cc495",
   "metadata": {},
   "outputs": [
    {
     "data": {
      "text/plain": [
       "attrition  job_role  \n",
       "Left       Technology    7333\n",
       "           Healthcare    6454\n",
       "           Education     6085\n",
       "           Media         4542\n",
       "           Finance       3924\n",
       "Stayed     Technology    8174\n",
       "           Healthcare    7188\n",
       "           Education     6405\n",
       "           Media         5032\n",
       "           Finance       4461\n",
       "Name: count, dtype: int64"
      ]
     },
     "execution_count": 32,
     "metadata": {},
     "output_type": "execute_result"
    }
   ],
   "source": [
    "df.groupby([\"attrition\"])[\"job_role\"].value_counts()"
   ]
  },
  {
   "cell_type": "markdown",
   "id": "4ba8f38a",
   "metadata": {},
   "source": [
    "### Work-life Balance"
   ]
  },
  {
   "cell_type": "code",
   "execution_count": 33,
   "id": "f121c4f2",
   "metadata": {},
   "outputs": [
    {
     "data": {
      "text/plain": [
       "work-life_balance  attrition\n",
       "Excellent          Stayed        6880\n",
       "                   Left          3839\n",
       "Fair               Left         10370\n",
       "                   Stayed        7676\n",
       "Good               Stayed       13391\n",
       "                   Left          9137\n",
       "Poor               Left          4992\n",
       "                   Stayed        3313\n",
       "Name: count, dtype: int64"
      ]
     },
     "execution_count": 33,
     "metadata": {},
     "output_type": "execute_result"
    }
   ],
   "source": [
    "df.groupby([\"work-life_balance\"])[\"attrition\"].value_counts()"
   ]
  },
  {
   "cell_type": "code",
   "execution_count": 34,
   "id": "ff7bdbbb",
   "metadata": {},
   "outputs": [
    {
     "name": "stdout",
     "output_type": "stream",
     "text": [
      "2499\n",
      "2493\n"
     ]
    }
   ],
   "source": [
    "print(len(df.loc[(df[\"attrition\"] == \"Left\") & (df[\"work-life_balance\"] == \"Poor\") & (df[\"monthly_income\"] < income_mean)]))\n",
    "print(len(df.loc[(df[\"attrition\"] == \"Left\") & (df[\"work-life_balance\"] == \"Poor\") & (df[\"monthly_income\"] > income_mean)]))"
   ]
  },
  {
   "cell_type": "code",
   "execution_count": 35,
   "id": "29abeeb6",
   "metadata": {},
   "outputs": [
    {
     "data": {
      "text/plain": [
       "job_role    work-life_balance\n",
       "Education   Good                 4730\n",
       "            Fair                 3741\n",
       "            Excellent            2240\n",
       "            Poor                 1779\n",
       "Finance     Good                 3238\n",
       "            Fair                 2469\n",
       "            Excellent            1522\n",
       "            Poor                 1156\n",
       "Healthcare  Good                 5145\n",
       "            Fair                 4134\n",
       "            Excellent            2481\n",
       "            Poor                 1882\n",
       "Media       Good                 3591\n",
       "            Fair                 2960\n",
       "            Excellent            1685\n",
       "            Poor                 1338\n",
       "Technology  Good                 5824\n",
       "            Fair                 4742\n",
       "            Excellent            2791\n",
       "            Poor                 2150\n",
       "Name: count, dtype: int64"
      ]
     },
     "execution_count": 35,
     "metadata": {},
     "output_type": "execute_result"
    }
   ],
   "source": [
    "df.groupby([\"job_role\"])[\"work-life_balance\"].value_counts()"
   ]
  },
  {
   "cell_type": "code",
   "execution_count": 36,
   "id": "a0af613f",
   "metadata": {},
   "outputs": [
    {
     "data": {
      "text/plain": [
       "attrition  job_role    work-life_balance\n",
       "Left       Education   Fair                 2186\n",
       "                       Good                 1958\n",
       "                       Poor                 1082\n",
       "                       Excellent             859\n",
       "           Finance     Fair                 1387\n",
       "                       Good                 1300\n",
       "                       Poor                  705\n",
       "                       Excellent             532\n",
       "           Healthcare  Fair                 2378\n",
       "                       Good                 2025\n",
       "                       Poor                 1154\n",
       "                       Excellent             897\n",
       "           Media       Fair                 1690\n",
       "                       Good                 1480\n",
       "                       Poor                  791\n",
       "                       Excellent             581\n",
       "           Technology  Fair                 2729\n",
       "                       Good                 2374\n",
       "                       Poor                 1260\n",
       "                       Excellent             970\n",
       "Stayed     Education   Good                 2772\n",
       "                       Fair                 1555\n",
       "                       Excellent            1381\n",
       "                       Poor                  697\n",
       "           Finance     Good                 1938\n",
       "                       Fair                 1082\n",
       "                       Excellent             990\n",
       "                       Poor                  451\n",
       "           Healthcare  Good                 3120\n",
       "                       Fair                 1756\n",
       "                       Excellent            1584\n",
       "                       Poor                  728\n",
       "           Media       Good                 2111\n",
       "                       Fair                 1270\n",
       "                       Excellent            1104\n",
       "                       Poor                  547\n",
       "           Technology  Good                 3450\n",
       "                       Fair                 2013\n",
       "                       Excellent            1821\n",
       "                       Poor                  890\n",
       "Name: count, dtype: int64"
      ]
     },
     "execution_count": 36,
     "metadata": {},
     "output_type": "execute_result"
    }
   ],
   "source": [
    "df.groupby([\"attrition\", \"job_role\"])[\"work-life_balance\"].value_counts()"
   ]
  },
  {
   "cell_type": "markdown",
   "id": "b932f7f4",
   "metadata": {},
   "source": [
    "### Job Satisfaction"
   ]
  },
  {
   "cell_type": "code",
   "execution_count": 37,
   "id": "82cb7a77",
   "metadata": {},
   "outputs": [
    {
     "data": {
      "text/plain": [
       "array(['Medium', 'High', 'Very High', 'Low'], dtype=object)"
      ]
     },
     "execution_count": 37,
     "metadata": {},
     "output_type": "execute_result"
    }
   ],
   "source": [
    "df.job_satisfaction.unique()"
   ]
  },
  {
   "cell_type": "code",
   "execution_count": 38,
   "id": "8c8073b8",
   "metadata": {},
   "outputs": [
    {
     "data": {
      "text/plain": [
       "job_satisfaction\n",
       "High         29779\n",
       "Very High    12111\n",
       "Medium       11817\n",
       "Low           5891\n",
       "Name: count, dtype: int64"
      ]
     },
     "execution_count": 38,
     "metadata": {},
     "output_type": "execute_result"
    }
   ],
   "source": [
    "df.job_satisfaction.value_counts()"
   ]
  },
  {
   "cell_type": "code",
   "execution_count": 39,
   "id": "31fab00f",
   "metadata": {},
   "outputs": [
    {
     "data": {
      "text/plain": [
       "job_satisfaction  gender\n",
       "High              Female    13420\n",
       "                  Male      16359\n",
       "Low               Female     2657\n",
       "                  Male       3234\n",
       "Medium            Female     5393\n",
       "                  Male       6424\n",
       "Very High         Female     5389\n",
       "                  Male       6722\n",
       "Name: employee_id, dtype: int64"
      ]
     },
     "execution_count": 39,
     "metadata": {},
     "output_type": "execute_result"
    }
   ],
   "source": [
    "df.groupby([\"job_satisfaction\",\"gender\"])[\"employee_id\"].count()"
   ]
  },
  {
   "cell_type": "code",
   "execution_count": 40,
   "id": "c48d9be6",
   "metadata": {},
   "outputs": [
    {
     "data": {
      "text/plain": [
       "job_satisfaction  attrition\n",
       "High              Left         13489\n",
       "                  Stayed       16290\n",
       "Low               Left          3088\n",
       "                  Stayed        2803\n",
       "Medium            Left          5356\n",
       "                  Stayed        6461\n",
       "Very High         Left          6405\n",
       "                  Stayed        5706\n",
       "Name: employee_id, dtype: int64"
      ]
     },
     "execution_count": 40,
     "metadata": {},
     "output_type": "execute_result"
    }
   ],
   "source": [
    "df.groupby([\"job_satisfaction\",\"attrition\"])[\"employee_id\"].count()"
   ]
  },
  {
   "cell_type": "markdown",
   "id": "7b5434d6",
   "metadata": {},
   "source": [
    "### Performance Rating"
   ]
  },
  {
   "cell_type": "code",
   "execution_count": 41,
   "id": "e09d9af5",
   "metadata": {},
   "outputs": [
    {
     "data": {
      "text/plain": [
       "Index(['employee_id', 'age', 'gender', 'years_at_company', 'job_role',\n",
       "       'monthly_income', 'work-life_balance', 'job_satisfaction',\n",
       "       'performance_rating', 'number_of_promotions', 'overtime',\n",
       "       'distance_from_home', 'education_level', 'marital_status',\n",
       "       'number_of_dependents', 'job_level', 'company_size', 'company_tenure',\n",
       "       'remote_work', 'leadership_opportunities', 'innovation_opportunities',\n",
       "       'company_reputation', 'employee_recognition', 'attrition'],\n",
       "      dtype='object')"
      ]
     },
     "execution_count": 41,
     "metadata": {},
     "output_type": "execute_result"
    }
   ],
   "source": [
    "df.columns"
   ]
  },
  {
   "cell_type": "code",
   "execution_count": 42,
   "id": "d0b53bf1",
   "metadata": {},
   "outputs": [
    {
     "name": "stdout",
     "output_type": "stream",
     "text": [
      "performance_rating\n",
      "Average          35810\n",
      "High             11888\n",
      "Below Average     8950\n",
      "Low               2950\n",
      "Name: count, dtype: int64\n"
     ]
    },
    {
     "data": {
      "text/plain": [
       "performance_rating\n",
       "Average          29845\n",
       "Below Average     7351\n",
       "High              9988\n",
       "Low               2436\n",
       "Name: number_of_promotions, dtype: int64"
      ]
     },
     "execution_count": 42,
     "metadata": {},
     "output_type": "execute_result"
    }
   ],
   "source": [
    "print(df.performance_rating.value_counts())\n",
    "df.groupby([\"performance_rating\"])[\"number_of_promotions\"].sum()"
   ]
  },
  {
   "cell_type": "code",
   "execution_count": 43,
   "id": "cb3cd8a5",
   "metadata": {},
   "outputs": [
    {
     "data": {
      "text/plain": [
       "59598"
      ]
     },
     "execution_count": 43,
     "metadata": {},
     "output_type": "execute_result"
    }
   ],
   "source": [
    "len(df)"
   ]
  },
  {
   "cell_type": "code",
   "execution_count": 44,
   "id": "33fb5887",
   "metadata": {},
   "outputs": [
    {
     "data": {
      "text/plain": [
       "performance_rating\n",
       "Average          18019\n",
       "High              5978\n",
       "Below Average     4413\n",
       "Low               1472\n",
       "Name: count, dtype: int64"
      ]
     },
     "execution_count": 44,
     "metadata": {},
     "output_type": "execute_result"
    }
   ],
   "source": [
    "df.loc[(df[\"number_of_promotions\"] > 0), \"performance_rating\"].value_counts()"
   ]
  },
  {
   "cell_type": "code",
   "execution_count": 45,
   "id": "c9fa0a88",
   "metadata": {},
   "outputs": [
    {
     "data": {
      "text/plain": [
       "performance_rating\n",
       "Average          17791\n",
       "High              5910\n",
       "Below Average     4537\n",
       "Low               1478\n",
       "Name: count, dtype: int64"
      ]
     },
     "execution_count": 45,
     "metadata": {},
     "output_type": "execute_result"
    }
   ],
   "source": [
    "df.loc[(df[\"number_of_promotions\"] == 0), \"performance_rating\"].value_counts()"
   ]
  },
  {
   "cell_type": "markdown",
   "id": "b7b26e7c",
   "metadata": {},
   "source": [
    "### Overtime"
   ]
  },
  {
   "cell_type": "code",
   "execution_count": 46,
   "id": "6a3192c6",
   "metadata": {},
   "outputs": [
    {
     "name": "stdout",
     "output_type": "stream",
     "text": [
      "job_role\n",
      "Technology    15507\n",
      "Healthcare    13642\n",
      "Education     12490\n",
      "Media          9574\n",
      "Finance        8385\n",
      "Name: count, dtype: int64\n"
     ]
    },
    {
     "data": {
      "text/plain": [
       "job_role\n",
       "Education     4040\n",
       "Finance       2724\n",
       "Healthcare    4408\n",
       "Media         3199\n",
       "Technology    5079\n",
       "Name: employee_id, dtype: int64"
      ]
     },
     "execution_count": 46,
     "metadata": {},
     "output_type": "execute_result"
    }
   ],
   "source": [
    "print(df.job_role.value_counts())\n",
    "df.groupby([\"overtime\", \"job_role\"])[\"employee_id\"].count()['Yes']"
   ]
  },
  {
   "cell_type": "markdown",
   "id": "79efaa01",
   "metadata": {},
   "source": [
    "### Job level"
   ]
  },
  {
   "cell_type": "code",
   "execution_count": 47,
   "id": "64353836",
   "metadata": {},
   "outputs": [
    {
     "data": {
      "text/plain": [
       "attrition  job_level  performance_rating\n",
       "Left       Entry      Average               8876\n",
       "                      Below Average         2406\n",
       "                      High                  2958\n",
       "                      Low                    842\n",
       "           Mid        Average               6293\n",
       "                      Below Average         1805\n",
       "                      High                  2047\n",
       "                      Low                    678\n",
       "           Senior     Average               1358\n",
       "                      Below Average          426\n",
       "                      High                   472\n",
       "                      Low                    177\n",
       "Stayed     Entry      Average               5422\n",
       "                      Below Average         1155\n",
       "                      High                  1887\n",
       "                      Low                    321\n",
       "           Mid        Average               8018\n",
       "                      Below Average         1815\n",
       "                      High                  2561\n",
       "                      Low                    536\n",
       "           Senior     Average               5843\n",
       "                      Below Average         1343\n",
       "                      High                  1963\n",
       "                      Low                    396\n",
       "Name: employee_id, dtype: int64"
      ]
     },
     "execution_count": 47,
     "metadata": {},
     "output_type": "execute_result"
    }
   ],
   "source": [
    "df.groupby([ \"attrition\",\"job_level\", \"performance_rating\"])[\"employee_id\"].count()"
   ]
  },
  {
   "cell_type": "code",
   "execution_count": 48,
   "id": "67bc8bd5",
   "metadata": {},
   "outputs": [
    {
     "data": {
      "text/plain": [
       "job_level  attrition\n",
       "Entry      Left         15082\n",
       "           Stayed        8785\n",
       "Mid        Left         10823\n",
       "           Stayed       12930\n",
       "Senior     Left          2433\n",
       "           Stayed        9545\n",
       "Name: employee_id, dtype: int64"
      ]
     },
     "metadata": {},
     "output_type": "display_data"
    }
   ],
   "source": [
    "display(df.groupby([ \"job_level\",\"attrition\"])[\"employee_id\"].count())"
   ]
  },
  {
   "cell_type": "code",
   "execution_count": 49,
   "id": "28a20c4a",
   "metadata": {},
   "outputs": [
    {
     "data": {
      "text/plain": [
       "Index(['employee_id', 'age', 'gender', 'years_at_company', 'job_role',\n",
       "       'monthly_income', 'work-life_balance', 'job_satisfaction',\n",
       "       'performance_rating', 'number_of_promotions', 'overtime',\n",
       "       'distance_from_home', 'education_level', 'marital_status',\n",
       "       'number_of_dependents', 'job_level', 'company_size', 'company_tenure',\n",
       "       'remote_work', 'leadership_opportunities', 'innovation_opportunities',\n",
       "       'company_reputation', 'employee_recognition', 'attrition'],\n",
       "      dtype='object')"
      ]
     },
     "execution_count": 49,
     "metadata": {},
     "output_type": "execute_result"
    }
   ],
   "source": [
    "df.columns"
   ]
  },
  {
   "cell_type": "code",
   "execution_count": 50,
   "id": "da029798",
   "metadata": {},
   "outputs": [
    {
     "data": {
      "text/plain": [
       "job_level\n",
       "Entry     51\n",
       "Mid       51\n",
       "Senior    51\n",
       "Name: years_at_company, dtype: int64"
      ]
     },
     "metadata": {},
     "output_type": "display_data"
    }
   ],
   "source": [
    "display(df.groupby([ \"job_level\"])[\"years_at_company\"].max())"
   ]
  },
  {
   "cell_type": "code",
   "execution_count": 51,
   "id": "76e55e1b",
   "metadata": {},
   "outputs": [
    {
     "data": {
      "text/html": [
       "<div>\n",
       "<style scoped>\n",
       "    .dataframe tbody tr th:only-of-type {\n",
       "        vertical-align: middle;\n",
       "    }\n",
       "\n",
       "    .dataframe tbody tr th {\n",
       "        vertical-align: top;\n",
       "    }\n",
       "\n",
       "    .dataframe thead th {\n",
       "        text-align: right;\n",
       "    }\n",
       "</style>\n",
       "<table border=\"1\" class=\"dataframe\">\n",
       "  <thead>\n",
       "    <tr style=\"text-align: right;\">\n",
       "      <th></th>\n",
       "      <th>employee_id</th>\n",
       "      <th>age</th>\n",
       "      <th>gender</th>\n",
       "      <th>years_at_company</th>\n",
       "      <th>job_role</th>\n",
       "      <th>monthly_income</th>\n",
       "      <th>work-life_balance</th>\n",
       "      <th>job_satisfaction</th>\n",
       "      <th>performance_rating</th>\n",
       "      <th>number_of_promotions</th>\n",
       "      <th>...</th>\n",
       "      <th>number_of_dependents</th>\n",
       "      <th>job_level</th>\n",
       "      <th>company_size</th>\n",
       "      <th>company_tenure</th>\n",
       "      <th>remote_work</th>\n",
       "      <th>leadership_opportunities</th>\n",
       "      <th>innovation_opportunities</th>\n",
       "      <th>company_reputation</th>\n",
       "      <th>employee_recognition</th>\n",
       "      <th>attrition</th>\n",
       "    </tr>\n",
       "  </thead>\n",
       "  <tbody>\n",
       "    <tr>\n",
       "      <th>1</th>\n",
       "      <td>64756</td>\n",
       "      <td>59</td>\n",
       "      <td>Female</td>\n",
       "      <td>4</td>\n",
       "      <td>Media</td>\n",
       "      <td>5534</td>\n",
       "      <td>Poor</td>\n",
       "      <td>High</td>\n",
       "      <td>Low</td>\n",
       "      <td>3</td>\n",
       "      <td>...</td>\n",
       "      <td>3</td>\n",
       "      <td>Mid</td>\n",
       "      <td>Medium</td>\n",
       "      <td>21</td>\n",
       "      <td>No</td>\n",
       "      <td>No</td>\n",
       "      <td>No</td>\n",
       "      <td>Fair</td>\n",
       "      <td>Low</td>\n",
       "      <td>Stayed</td>\n",
       "    </tr>\n",
       "    <tr>\n",
       "      <th>3</th>\n",
       "      <td>65791</td>\n",
       "      <td>36</td>\n",
       "      <td>Female</td>\n",
       "      <td>7</td>\n",
       "      <td>Education</td>\n",
       "      <td>3989</td>\n",
       "      <td>Good</td>\n",
       "      <td>High</td>\n",
       "      <td>High</td>\n",
       "      <td>1</td>\n",
       "      <td>...</td>\n",
       "      <td>2</td>\n",
       "      <td>Mid</td>\n",
       "      <td>Small</td>\n",
       "      <td>50</td>\n",
       "      <td>Yes</td>\n",
       "      <td>No</td>\n",
       "      <td>No</td>\n",
       "      <td>Good</td>\n",
       "      <td>Medium</td>\n",
       "      <td>Stayed</td>\n",
       "    </tr>\n",
       "    <tr>\n",
       "      <th>5</th>\n",
       "      <td>24368</td>\n",
       "      <td>38</td>\n",
       "      <td>Female</td>\n",
       "      <td>3</td>\n",
       "      <td>Technology</td>\n",
       "      <td>9977</td>\n",
       "      <td>Fair</td>\n",
       "      <td>High</td>\n",
       "      <td>Below Average</td>\n",
       "      <td>3</td>\n",
       "      <td>...</td>\n",
       "      <td>0</td>\n",
       "      <td>Mid</td>\n",
       "      <td>Medium</td>\n",
       "      <td>47</td>\n",
       "      <td>No</td>\n",
       "      <td>No</td>\n",
       "      <td>Yes</td>\n",
       "      <td>Fair</td>\n",
       "      <td>High</td>\n",
       "      <td>Left</td>\n",
       "    </tr>\n",
       "    <tr>\n",
       "      <th>6</th>\n",
       "      <td>64970</td>\n",
       "      <td>47</td>\n",
       "      <td>Male</td>\n",
       "      <td>23</td>\n",
       "      <td>Education</td>\n",
       "      <td>3681</td>\n",
       "      <td>Fair</td>\n",
       "      <td>High</td>\n",
       "      <td>High</td>\n",
       "      <td>1</td>\n",
       "      <td>...</td>\n",
       "      <td>3</td>\n",
       "      <td>Entry</td>\n",
       "      <td>Small</td>\n",
       "      <td>93</td>\n",
       "      <td>No</td>\n",
       "      <td>No</td>\n",
       "      <td>No</td>\n",
       "      <td>Good</td>\n",
       "      <td>Medium</td>\n",
       "      <td>Left</td>\n",
       "    </tr>\n",
       "    <tr>\n",
       "      <th>7</th>\n",
       "      <td>36999</td>\n",
       "      <td>48</td>\n",
       "      <td>Male</td>\n",
       "      <td>16</td>\n",
       "      <td>Finance</td>\n",
       "      <td>11223</td>\n",
       "      <td>Excellent</td>\n",
       "      <td>Very High</td>\n",
       "      <td>High</td>\n",
       "      <td>2</td>\n",
       "      <td>...</td>\n",
       "      <td>4</td>\n",
       "      <td>Entry</td>\n",
       "      <td>Medium</td>\n",
       "      <td>88</td>\n",
       "      <td>No</td>\n",
       "      <td>No</td>\n",
       "      <td>No</td>\n",
       "      <td>Excellent</td>\n",
       "      <td>Low</td>\n",
       "      <td>Stayed</td>\n",
       "    </tr>\n",
       "    <tr>\n",
       "      <th>...</th>\n",
       "      <td>...</td>\n",
       "      <td>...</td>\n",
       "      <td>...</td>\n",
       "      <td>...</td>\n",
       "      <td>...</td>\n",
       "      <td>...</td>\n",
       "      <td>...</td>\n",
       "      <td>...</td>\n",
       "      <td>...</td>\n",
       "      <td>...</td>\n",
       "      <td>...</td>\n",
       "      <td>...</td>\n",
       "      <td>...</td>\n",
       "      <td>...</td>\n",
       "      <td>...</td>\n",
       "      <td>...</td>\n",
       "      <td>...</td>\n",
       "      <td>...</td>\n",
       "      <td>...</td>\n",
       "      <td>...</td>\n",
       "      <td>...</td>\n",
       "    </tr>\n",
       "    <tr>\n",
       "      <th>59585</th>\n",
       "      <td>59736</td>\n",
       "      <td>56</td>\n",
       "      <td>Male</td>\n",
       "      <td>16</td>\n",
       "      <td>Technology</td>\n",
       "      <td>11048</td>\n",
       "      <td>Good</td>\n",
       "      <td>Low</td>\n",
       "      <td>Average</td>\n",
       "      <td>1</td>\n",
       "      <td>...</td>\n",
       "      <td>2</td>\n",
       "      <td>Entry</td>\n",
       "      <td>Medium</td>\n",
       "      <td>25</td>\n",
       "      <td>No</td>\n",
       "      <td>No</td>\n",
       "      <td>No</td>\n",
       "      <td>Good</td>\n",
       "      <td>Medium</td>\n",
       "      <td>Left</td>\n",
       "    </tr>\n",
       "    <tr>\n",
       "      <th>59588</th>\n",
       "      <td>67222</td>\n",
       "      <td>49</td>\n",
       "      <td>Male</td>\n",
       "      <td>28</td>\n",
       "      <td>Technology</td>\n",
       "      <td>6533</td>\n",
       "      <td>Fair</td>\n",
       "      <td>Medium</td>\n",
       "      <td>High</td>\n",
       "      <td>1</td>\n",
       "      <td>...</td>\n",
       "      <td>4</td>\n",
       "      <td>Entry</td>\n",
       "      <td>Medium</td>\n",
       "      <td>93</td>\n",
       "      <td>No</td>\n",
       "      <td>No</td>\n",
       "      <td>No</td>\n",
       "      <td>Good</td>\n",
       "      <td>Medium</td>\n",
       "      <td>Left</td>\n",
       "    </tr>\n",
       "    <tr>\n",
       "      <th>59591</th>\n",
       "      <td>60264</td>\n",
       "      <td>42</td>\n",
       "      <td>Male</td>\n",
       "      <td>10</td>\n",
       "      <td>Technology</td>\n",
       "      <td>10727</td>\n",
       "      <td>Good</td>\n",
       "      <td>High</td>\n",
       "      <td>Average</td>\n",
       "      <td>0</td>\n",
       "      <td>...</td>\n",
       "      <td>1</td>\n",
       "      <td>Mid</td>\n",
       "      <td>Small</td>\n",
       "      <td>73</td>\n",
       "      <td>No</td>\n",
       "      <td>No</td>\n",
       "      <td>No</td>\n",
       "      <td>Fair</td>\n",
       "      <td>High</td>\n",
       "      <td>Left</td>\n",
       "    </tr>\n",
       "    <tr>\n",
       "      <th>59593</th>\n",
       "      <td>37195</td>\n",
       "      <td>50</td>\n",
       "      <td>Female</td>\n",
       "      <td>12</td>\n",
       "      <td>Education</td>\n",
       "      <td>4414</td>\n",
       "      <td>Fair</td>\n",
       "      <td>High</td>\n",
       "      <td>Average</td>\n",
       "      <td>1</td>\n",
       "      <td>...</td>\n",
       "      <td>2</td>\n",
       "      <td>Senior</td>\n",
       "      <td>Small</td>\n",
       "      <td>35</td>\n",
       "      <td>No</td>\n",
       "      <td>No</td>\n",
       "      <td>Yes</td>\n",
       "      <td>Poor</td>\n",
       "      <td>Very High</td>\n",
       "      <td>Left</td>\n",
       "    </tr>\n",
       "    <tr>\n",
       "      <th>59597</th>\n",
       "      <td>15796</td>\n",
       "      <td>56</td>\n",
       "      <td>Male</td>\n",
       "      <td>19</td>\n",
       "      <td>Technology</td>\n",
       "      <td>6660</td>\n",
       "      <td>Good</td>\n",
       "      <td>High</td>\n",
       "      <td>Average</td>\n",
       "      <td>0</td>\n",
       "      <td>...</td>\n",
       "      <td>3</td>\n",
       "      <td>Mid</td>\n",
       "      <td>Medium</td>\n",
       "      <td>81</td>\n",
       "      <td>No</td>\n",
       "      <td>No</td>\n",
       "      <td>No</td>\n",
       "      <td>Good</td>\n",
       "      <td>Low</td>\n",
       "      <td>Stayed</td>\n",
       "    </tr>\n",
       "  </tbody>\n",
       "</table>\n",
       "<p>35801 rows × 24 columns</p>\n",
       "</div>"
      ],
      "text/plain": [
       "       employee_id  age  gender  years_at_company    job_role  monthly_income  \\\n",
       "1            64756   59  Female                 4       Media            5534   \n",
       "3            65791   36  Female                 7   Education            3989   \n",
       "5            24368   38  Female                 3  Technology            9977   \n",
       "6            64970   47    Male                23   Education            3681   \n",
       "7            36999   48    Male                16     Finance           11223   \n",
       "...            ...  ...     ...               ...         ...             ...   \n",
       "59585        59736   56    Male                16  Technology           11048   \n",
       "59588        67222   49    Male                28  Technology            6533   \n",
       "59591        60264   42    Male                10  Technology           10727   \n",
       "59593        37195   50  Female                12   Education            4414   \n",
       "59597        15796   56    Male                19  Technology            6660   \n",
       "\n",
       "      work-life_balance job_satisfaction performance_rating  \\\n",
       "1                  Poor             High                Low   \n",
       "3                  Good             High               High   \n",
       "5                  Fair             High      Below Average   \n",
       "6                  Fair             High               High   \n",
       "7             Excellent        Very High               High   \n",
       "...                 ...              ...                ...   \n",
       "59585              Good              Low            Average   \n",
       "59588              Fair           Medium               High   \n",
       "59591              Good             High            Average   \n",
       "59593              Fair             High            Average   \n",
       "59597              Good             High            Average   \n",
       "\n",
       "       number_of_promotions  ... number_of_dependents  job_level company_size  \\\n",
       "1                         3  ...                    3        Mid       Medium   \n",
       "3                         1  ...                    2        Mid        Small   \n",
       "5                         3  ...                    0        Mid       Medium   \n",
       "6                         1  ...                    3      Entry        Small   \n",
       "7                         2  ...                    4      Entry       Medium   \n",
       "...                     ...  ...                  ...        ...          ...   \n",
       "59585                     1  ...                    2      Entry       Medium   \n",
       "59588                     1  ...                    4      Entry       Medium   \n",
       "59591                     0  ...                    1        Mid        Small   \n",
       "59593                     1  ...                    2     Senior        Small   \n",
       "59597                     0  ...                    3        Mid       Medium   \n",
       "\n",
       "      company_tenure  remote_work leadership_opportunities  \\\n",
       "1                 21           No                       No   \n",
       "3                 50          Yes                       No   \n",
       "5                 47           No                       No   \n",
       "6                 93           No                       No   \n",
       "7                 88           No                       No   \n",
       "...              ...          ...                      ...   \n",
       "59585             25           No                       No   \n",
       "59588             93           No                       No   \n",
       "59591             73           No                       No   \n",
       "59593             35           No                       No   \n",
       "59597             81           No                       No   \n",
       "\n",
       "      innovation_opportunities  company_reputation employee_recognition  \\\n",
       "1                           No                Fair                  Low   \n",
       "3                           No                Good               Medium   \n",
       "5                          Yes                Fair                 High   \n",
       "6                           No                Good               Medium   \n",
       "7                           No           Excellent                  Low   \n",
       "...                        ...                 ...                  ...   \n",
       "59585                       No                Good               Medium   \n",
       "59588                       No                Good               Medium   \n",
       "59591                       No                Fair                 High   \n",
       "59593                      Yes                Poor            Very High   \n",
       "59597                       No                Good                  Low   \n",
       "\n",
       "      attrition  \n",
       "1        Stayed  \n",
       "3        Stayed  \n",
       "5          Left  \n",
       "6          Left  \n",
       "7        Stayed  \n",
       "...         ...  \n",
       "59585      Left  \n",
       "59588      Left  \n",
       "59591      Left  \n",
       "59593      Left  \n",
       "59597    Stayed  \n",
       "\n",
       "[35801 rows x 24 columns]"
      ]
     },
     "execution_count": 51,
     "metadata": {},
     "output_type": "execute_result"
    }
   ],
   "source": [
    "df.loc[(df[\"years_at_company\"] <= df[\"age\"] -18)] #This data that we will be working on if the iqr did not make any sense"
   ]
  },
  {
   "cell_type": "markdown",
   "id": "f8ffa958",
   "metadata": {},
   "source": [
    "### Distance from Home"
   ]
  },
  {
   "cell_type": "code",
   "execution_count": 52,
   "id": "614a3f60",
   "metadata": {},
   "outputs": [
    {
     "data": {
      "text/plain": [
       "count    59598.000000\n",
       "mean        50.007651\n",
       "std         28.466459\n",
       "min          1.000000\n",
       "25%         25.000000\n",
       "50%         50.000000\n",
       "75%         75.000000\n",
       "max         99.000000\n",
       "Name: distance_from_home, dtype: float64"
      ]
     },
     "execution_count": 52,
     "metadata": {},
     "output_type": "execute_result"
    }
   ],
   "source": [
    "df.distance_from_home.describe()"
   ]
  },
  {
   "cell_type": "code",
   "execution_count": 54,
   "id": "99536201",
   "metadata": {},
   "outputs": [
    {
     "data": {
      "text/html": [
       "<div>\n",
       "<style scoped>\n",
       "    .dataframe tbody tr th:only-of-type {\n",
       "        vertical-align: middle;\n",
       "    }\n",
       "\n",
       "    .dataframe tbody tr th {\n",
       "        vertical-align: top;\n",
       "    }\n",
       "\n",
       "    .dataframe thead th {\n",
       "        text-align: right;\n",
       "    }\n",
       "</style>\n",
       "<table border=\"1\" class=\"dataframe\">\n",
       "  <thead>\n",
       "    <tr style=\"text-align: right;\">\n",
       "      <th></th>\n",
       "      <th>count</th>\n",
       "      <th>mean</th>\n",
       "      <th>std</th>\n",
       "      <th>min</th>\n",
       "      <th>25%</th>\n",
       "      <th>50%</th>\n",
       "      <th>75%</th>\n",
       "      <th>max</th>\n",
       "    </tr>\n",
       "    <tr>\n",
       "      <th>job_role</th>\n",
       "      <th></th>\n",
       "      <th></th>\n",
       "      <th></th>\n",
       "      <th></th>\n",
       "      <th></th>\n",
       "      <th></th>\n",
       "      <th></th>\n",
       "      <th></th>\n",
       "    </tr>\n",
       "  </thead>\n",
       "  <tbody>\n",
       "    <tr>\n",
       "      <th>Education</th>\n",
       "      <td>12490.0</td>\n",
       "      <td>49.959888</td>\n",
       "      <td>28.393539</td>\n",
       "      <td>1.0</td>\n",
       "      <td>25.0</td>\n",
       "      <td>50.0</td>\n",
       "      <td>75.0</td>\n",
       "      <td>99.0</td>\n",
       "    </tr>\n",
       "    <tr>\n",
       "      <th>Finance</th>\n",
       "      <td>8385.0</td>\n",
       "      <td>50.281694</td>\n",
       "      <td>28.480078</td>\n",
       "      <td>1.0</td>\n",
       "      <td>26.0</td>\n",
       "      <td>51.0</td>\n",
       "      <td>74.0</td>\n",
       "      <td>99.0</td>\n",
       "    </tr>\n",
       "    <tr>\n",
       "      <th>Healthcare</th>\n",
       "      <td>13642.0</td>\n",
       "      <td>50.082099</td>\n",
       "      <td>28.537013</td>\n",
       "      <td>1.0</td>\n",
       "      <td>25.0</td>\n",
       "      <td>50.0</td>\n",
       "      <td>75.0</td>\n",
       "      <td>99.0</td>\n",
       "    </tr>\n",
       "    <tr>\n",
       "      <th>Media</th>\n",
       "      <td>9574.0</td>\n",
       "      <td>50.043033</td>\n",
       "      <td>28.578923</td>\n",
       "      <td>1.0</td>\n",
       "      <td>25.0</td>\n",
       "      <td>50.0</td>\n",
       "      <td>75.0</td>\n",
       "      <td>99.0</td>\n",
       "    </tr>\n",
       "    <tr>\n",
       "      <th>Technology</th>\n",
       "      <td>15507.0</td>\n",
       "      <td>49.810602</td>\n",
       "      <td>28.388073</td>\n",
       "      <td>1.0</td>\n",
       "      <td>25.0</td>\n",
       "      <td>50.0</td>\n",
       "      <td>74.0</td>\n",
       "      <td>99.0</td>\n",
       "    </tr>\n",
       "  </tbody>\n",
       "</table>\n",
       "</div>"
      ],
      "text/plain": [
       "              count       mean        std  min   25%   50%   75%   max\n",
       "job_role                                                              \n",
       "Education   12490.0  49.959888  28.393539  1.0  25.0  50.0  75.0  99.0\n",
       "Finance      8385.0  50.281694  28.480078  1.0  26.0  51.0  74.0  99.0\n",
       "Healthcare  13642.0  50.082099  28.537013  1.0  25.0  50.0  75.0  99.0\n",
       "Media        9574.0  50.043033  28.578923  1.0  25.0  50.0  75.0  99.0\n",
       "Technology  15507.0  49.810602  28.388073  1.0  25.0  50.0  74.0  99.0"
      ]
     },
     "execution_count": 54,
     "metadata": {},
     "output_type": "execute_result"
    }
   ],
   "source": [
    "df.groupby([\"job_role\"])[\"distance_from_home\"].describe()"
   ]
  },
  {
   "cell_type": "code",
   "execution_count": 55,
   "id": "d217ccd3",
   "metadata": {},
   "outputs": [
    {
     "data": {
      "text/html": [
       "<div>\n",
       "<style scoped>\n",
       "    .dataframe tbody tr th:only-of-type {\n",
       "        vertical-align: middle;\n",
       "    }\n",
       "\n",
       "    .dataframe tbody tr th {\n",
       "        vertical-align: top;\n",
       "    }\n",
       "\n",
       "    .dataframe thead th {\n",
       "        text-align: right;\n",
       "    }\n",
       "</style>\n",
       "<table border=\"1\" class=\"dataframe\">\n",
       "  <thead>\n",
       "    <tr style=\"text-align: right;\">\n",
       "      <th></th>\n",
       "      <th>count</th>\n",
       "      <th>mean</th>\n",
       "      <th>std</th>\n",
       "      <th>min</th>\n",
       "      <th>25%</th>\n",
       "      <th>50%</th>\n",
       "      <th>75%</th>\n",
       "      <th>max</th>\n",
       "    </tr>\n",
       "    <tr>\n",
       "      <th>attrition</th>\n",
       "      <th></th>\n",
       "      <th></th>\n",
       "      <th></th>\n",
       "      <th></th>\n",
       "      <th></th>\n",
       "      <th></th>\n",
       "      <th></th>\n",
       "      <th></th>\n",
       "    </tr>\n",
       "  </thead>\n",
       "  <tbody>\n",
       "    <tr>\n",
       "      <th>Left</th>\n",
       "      <td>28338.0</td>\n",
       "      <td>52.864987</td>\n",
       "      <td>28.306901</td>\n",
       "      <td>1.0</td>\n",
       "      <td>29.0</td>\n",
       "      <td>55.0</td>\n",
       "      <td>77.0</td>\n",
       "      <td>99.0</td>\n",
       "    </tr>\n",
       "    <tr>\n",
       "      <th>Stayed</th>\n",
       "      <td>31260.0</td>\n",
       "      <td>47.417402</td>\n",
       "      <td>28.363110</td>\n",
       "      <td>1.0</td>\n",
       "      <td>23.0</td>\n",
       "      <td>45.0</td>\n",
       "      <td>72.0</td>\n",
       "      <td>99.0</td>\n",
       "    </tr>\n",
       "  </tbody>\n",
       "</table>\n",
       "</div>"
      ],
      "text/plain": [
       "             count       mean        std  min   25%   50%   75%   max\n",
       "attrition                                                            \n",
       "Left       28338.0  52.864987  28.306901  1.0  29.0  55.0  77.0  99.0\n",
       "Stayed     31260.0  47.417402  28.363110  1.0  23.0  45.0  72.0  99.0"
      ]
     },
     "execution_count": 55,
     "metadata": {},
     "output_type": "execute_result"
    }
   ],
   "source": [
    "df.groupby([\"attrition\"])[\"distance_from_home\"].describe()"
   ]
  },
  {
   "cell_type": "code",
   "execution_count": 56,
   "id": "9866a136",
   "metadata": {},
   "outputs": [
    {
     "data": {
      "text/html": [
       "<div>\n",
       "<style scoped>\n",
       "    .dataframe tbody tr th:only-of-type {\n",
       "        vertical-align: middle;\n",
       "    }\n",
       "\n",
       "    .dataframe tbody tr th {\n",
       "        vertical-align: top;\n",
       "    }\n",
       "\n",
       "    .dataframe thead th {\n",
       "        text-align: right;\n",
       "    }\n",
       "</style>\n",
       "<table border=\"1\" class=\"dataframe\">\n",
       "  <thead>\n",
       "    <tr style=\"text-align: right;\">\n",
       "      <th></th>\n",
       "      <th>count</th>\n",
       "      <th>mean</th>\n",
       "      <th>std</th>\n",
       "      <th>min</th>\n",
       "      <th>25%</th>\n",
       "      <th>50%</th>\n",
       "      <th>75%</th>\n",
       "      <th>max</th>\n",
       "    </tr>\n",
       "    <tr>\n",
       "      <th>performance_rating</th>\n",
       "      <th></th>\n",
       "      <th></th>\n",
       "      <th></th>\n",
       "      <th></th>\n",
       "      <th></th>\n",
       "      <th></th>\n",
       "      <th></th>\n",
       "      <th></th>\n",
       "    </tr>\n",
       "  </thead>\n",
       "  <tbody>\n",
       "    <tr>\n",
       "      <th>Average</th>\n",
       "      <td>35810.0</td>\n",
       "      <td>49.850880</td>\n",
       "      <td>28.460365</td>\n",
       "      <td>1.0</td>\n",
       "      <td>25.0</td>\n",
       "      <td>50.0</td>\n",
       "      <td>74.0</td>\n",
       "      <td>99.0</td>\n",
       "    </tr>\n",
       "    <tr>\n",
       "      <th>Below Average</th>\n",
       "      <td>8950.0</td>\n",
       "      <td>50.503352</td>\n",
       "      <td>28.407274</td>\n",
       "      <td>1.0</td>\n",
       "      <td>26.0</td>\n",
       "      <td>51.0</td>\n",
       "      <td>75.0</td>\n",
       "      <td>99.0</td>\n",
       "    </tr>\n",
       "    <tr>\n",
       "      <th>High</th>\n",
       "      <td>11888.0</td>\n",
       "      <td>50.118691</td>\n",
       "      <td>28.478263</td>\n",
       "      <td>1.0</td>\n",
       "      <td>25.0</td>\n",
       "      <td>50.0</td>\n",
       "      <td>75.0</td>\n",
       "      <td>99.0</td>\n",
       "    </tr>\n",
       "    <tr>\n",
       "      <th>Low</th>\n",
       "      <td>2950.0</td>\n",
       "      <td>49.959322</td>\n",
       "      <td>28.666788</td>\n",
       "      <td>1.0</td>\n",
       "      <td>24.0</td>\n",
       "      <td>49.0</td>\n",
       "      <td>75.0</td>\n",
       "      <td>99.0</td>\n",
       "    </tr>\n",
       "  </tbody>\n",
       "</table>\n",
       "</div>"
      ],
      "text/plain": [
       "                      count       mean        std  min   25%   50%   75%   max\n",
       "performance_rating                                                            \n",
       "Average             35810.0  49.850880  28.460365  1.0  25.0  50.0  74.0  99.0\n",
       "Below Average        8950.0  50.503352  28.407274  1.0  26.0  51.0  75.0  99.0\n",
       "High                11888.0  50.118691  28.478263  1.0  25.0  50.0  75.0  99.0\n",
       "Low                  2950.0  49.959322  28.666788  1.0  24.0  49.0  75.0  99.0"
      ]
     },
     "execution_count": 56,
     "metadata": {},
     "output_type": "execute_result"
    }
   ],
   "source": [
    "df.groupby([\"performance_rating\"])[\"distance_from_home\"].describe()"
   ]
  },
  {
   "cell_type": "markdown",
   "id": "d167d3b7",
   "metadata": {},
   "source": [
    "### Education Level"
   ]
  },
  {
   "cell_type": "markdown",
   "id": "a3c608f6",
   "metadata": {},
   "source": [
    "### Marital Status"
   ]
  },
  {
   "cell_type": "code",
   "execution_count": null,
   "id": "f52b42d6",
   "metadata": {},
   "outputs": [],
   "source": []
  }
 ],
 "metadata": {
  "kernelspec": {
   "display_name": ".venv (3.13.6)",
   "language": "python",
   "name": "python3"
  },
  "language_info": {
   "codemirror_mode": {
    "name": "ipython",
    "version": 3
   },
   "file_extension": ".py",
   "mimetype": "text/x-python",
   "name": "python",
   "nbconvert_exporter": "python",
   "pygments_lexer": "ipython3",
   "version": "3.13.6"
  }
 },
 "nbformat": 4,
 "nbformat_minor": 5
}

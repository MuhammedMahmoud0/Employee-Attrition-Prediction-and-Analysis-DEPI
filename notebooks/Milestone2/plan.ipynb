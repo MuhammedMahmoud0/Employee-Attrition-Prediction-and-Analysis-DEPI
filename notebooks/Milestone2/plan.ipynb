{
 "cells": [
  {
   "cell_type": "markdown",
   "id": "ca2ae3fe",
   "metadata": {},
   "source": [
    "# **Milestone 2**"
   ]
  },
  {
   "cell_type": "markdown",
   "id": "470cf4e4",
   "metadata": {},
   "source": [
    "## **1. Advanced Data Analysis**"
   ]
  },
  {
   "cell_type": "markdown",
   "id": "a598f9b7",
   "metadata": {},
   "source": [
    "In Milestone 1, our Exploratory Data Analysis (EDA) revealed initial patterns between various features and employee attrition. In this phase, we will perform statistical tests to determine if these observed relationships are statistically significant and not the result of random chance."
   ]
  },
  {
   "cell_type": "markdown",
   "id": "5d75e4f8",
   "metadata": {},
   "source": [
    "### **Statistical Tests**"
   ]
  },
  {
   "cell_type": "markdown",
   "id": "e2052388",
   "metadata": {},
   "source": [
    "#### *1. Chi-Squared Test*"
   ]
  },
  {
   "cell_type": "markdown",
   "id": "f4fd3ce2",
   "metadata": {},
   "source": [
    "We use it to test the relationship between categorical variables So we will `Test the relationship between target variable (Attrition) and all categorical variables in our dataset`"
   ]
  },
  {
   "cell_type": "markdown",
   "id": "b8b55f8e",
   "metadata": {},
   "source": [
    "#### *2. T-test*"
   ]
  },
  {
   "cell_type": "markdown",
   "id": "29483d75",
   "metadata": {
    "vscode": {
     "languageId": "plaintext"
    }
   },
   "source": [
    "We use it to compare between `2 different groups or classes` of a categorical variable on a numerical variable on average (so we use mean of that numerical variable to compare between classes)"
   ]
  },
  {
   "cell_type": "markdown",
   "id": "6b1b4119",
   "metadata": {},
   "source": [
    "#### *3. ANOVA*"
   ]
  },
  {
   "cell_type": "markdown",
   "id": "e1080c5e",
   "metadata": {
    "vscode": {
     "languageId": "plaintext"
    }
   },
   "source": [
    "The same as T-test but it compare `more than 2 classes or groups` on a numerical variable"
   ]
  },
  {
   "cell_type": "markdown",
   "id": "02628401",
   "metadata": {
    "vscode": {
     "languageId": "plaintext"
    }
   },
   "source": [
    "#### *Summary*"
   ]
  },
  {
   "cell_type": "markdown",
   "id": "386b531d",
   "metadata": {
    "vscode": {
     "languageId": "plaintext"
    }
   },
   "source": [
    "* Chi-Squared Test --> **target Vs categorical features**\n",
    "* T-test --> **Any categorical feature have 2 classes (Target) Vs numerical feature**\n",
    "* ANOVA --> **Any categorical feature have more than 2 classes Vs numerical feature**"
   ]
  },
  {
   "cell_type": "markdown",
   "id": "b45d1a25",
   "metadata": {},
   "source": [
    "In each of those tests we will identify 2 hypothesis:\n",
    "* H0: No relation between A and B \n",
    "* Ha: There is a significant relation between A and B \n",
    "\n",
    "Then we will get the P-value:\n",
    "* P-value < alpha (0.05) --> Reject H0 (there is a significant relation between A and B) ✅\n",
    "* P-value > alpha (0.05) --> Fail to reject H0 (no relation between A and B maybe its a result of random chance) ❌  "
   ]
  },
  {
   "cell_type": "markdown",
   "id": "f9129580",
   "metadata": {
    "vscode": {
     "languageId": "plaintext"
    }
   },
   "source": [
    "### **Feature Selection**"
   ]
  },
  {
   "cell_type": "markdown",
   "id": "af3767f5",
   "metadata": {},
   "source": [
    "#### *Correlation Matrices*"
   ]
  },
  {
   "cell_type": "markdown",
   "id": "28ed9cb5",
   "metadata": {
    "vscode": {
     "languageId": "plaintext"
    }
   },
   "source": [
    "We use it to identify the strength and direction of the relationship between numerical features \\\n",
    "`we will use correlation matrix (Pearson correlation)`\n",
    "* Numerical features\n",
    "* Ordinal categorical features encoded using `Label encoding`\n",
    "* Nominal categorical features encoded using `one hot encoding` \n",
    "\n",
    "1. **Target Filtering (Between features and target)**\n",
    "* We put a slightly low threshold for |r| (like 0.1 or 0.15) any feature have a correlation |r| < threshold we eliminate it \n",
    "\n",
    "2. **Multicollinearity Check (Between features and each other)**\n",
    "* We put a slightly high threshold for |r| (like 0.8 or 0.75) and 2 features have a correlation |r| > threshold we eliminate the feature that have lower correlation with the target"
   ]
  },
  {
   "cell_type": "markdown",
   "id": "b8f91726",
   "metadata": {
    "vscode": {
     "languageId": "plaintext"
    }
   },
   "source": [
    "#### *Recursive Feature Elimination (RFE)*"
   ]
  },
  {
   "cell_type": "code",
   "execution_count": null,
   "id": "d6df3338",
   "metadata": {
    "vscode": {
     "languageId": "plaintext"
    }
   },
   "outputs": [],
   "source": []
  },
  {
   "cell_type": "markdown",
   "id": "ce8243c8",
   "metadata": {
    "vscode": {
     "languageId": "plaintext"
    }
   },
   "source": [
    "## **2. Feature Engineering**"
   ]
  },
  {
   "cell_type": "markdown",
   "id": "4c3a9835",
   "metadata": {},
   "source": [
    "#### *1. Create new features*"
   ]
  },
  {
   "cell_type": "markdown",
   "id": "1b870280",
   "metadata": {},
   "source": [
    "* years_at_company ---> tenure categories (short-term, medium-term, long-term)\n",
    "* monthly_income ---> salary bands (low, medium, high)"
   ]
  },
  {
   "cell_type": "markdown",
   "id": "17e30247",
   "metadata": {
    "vscode": {
     "languageId": "plaintext"
    }
   },
   "source": [
    "#### *2. Feature Transformations*"
   ]
  },
  {
   "cell_type": "markdown",
   "id": "e1dd98da",
   "metadata": {
    "vscode": {
     "languageId": "plaintext"
    }
   },
   "source": [
    "* Apply scaling techinque to scale the numerical features\n",
    "* encode the newly created features"
   ]
  },
  {
   "cell_type": "markdown",
   "id": "4e81e6fa-d7e0-4b39-9114-0286cbf94ee6",
   "metadata": {},
   "source": [
    "## **3. Data Visualization**"
   ]
  },
  {
   "cell_type": "markdown",
   "id": "25806ab9-e1d2-49fc-a2b2-ce780ba00944",
   "metadata": {},
   "source": [
    "* Visualizations using python with various charts (bat charts, pie charts, heatmaps, ...)\n",
    "* Put all these Visualizations in a PowerBI Dashboard"
   ]
  }
 ],
 "metadata": {
  "kernelspec": {
   "display_name": "Python 3 (ipykernel)",
   "language": "python",
   "name": "python3"
  },
  "language_info": {
   "codemirror_mode": {
    "name": "ipython",
    "version": 3
   },
   "file_extension": ".py",
   "mimetype": "text/x-python",
   "name": "python",
   "nbconvert_exporter": "python",
   "pygments_lexer": "ipython3",
   "version": "3.12.7"
  }
 },
 "nbformat": 4,
 "nbformat_minor": 5
}
